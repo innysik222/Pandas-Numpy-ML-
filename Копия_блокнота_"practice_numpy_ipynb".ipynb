{
  "nbformat": 4,
  "nbformat_minor": 0,
  "metadata": {
    "colab": {
      "name": "Копия блокнота \"practice.numpy.ipynb\"",
      "provenance": [],
      "collapsed_sections": [],
      "include_colab_link": true
    },
    "kernelspec": {
      "name": "python3",
      "display_name": "Python 3"
    },
    "language_info": {
      "name": "python"
    }
  },
  "cells": [
    {
      "cell_type": "markdown",
      "metadata": {
        "id": "view-in-github",
        "colab_type": "text"
      },
      "source": [
        "<a href=\"https://colab.research.google.com/github/innysik222/Pandas-Numpy-ML-/blob/main/%D0%9A%D0%BE%D0%BF%D0%B8%D1%8F_%D0%B1%D0%BB%D0%BE%D0%BA%D0%BD%D0%BE%D1%82%D0%B0_%22practice_numpy_ipynb%22.ipynb\" target=\"_parent\"><img src=\"https://colab.research.google.com/assets/colab-badge.svg\" alt=\"Open In Colab\"/></a>"
      ]
    },
    {
      "cell_type": "markdown",
      "source": [
        "<img src='https://drive.google.com/uc?id=1_UPhD0m3AbkSKA6oy7oNqBfyJcar4lOC'>"
      ],
      "metadata": {
        "id": "-rxIR0q_Izxf"
      }
    },
    {
      "cell_type": "code",
      "metadata": {
        "colab": {
          "base_uri": "https://localhost:8080/"
        },
        "id": "2aEQws1__x5W",
        "outputId": "db37dd5f-7b3a-4f56-fa1a-c0b6432fba77",
        "cellView": "form"
      },
      "source": [
        "#@title Установка нужных версий библиотек\n",
        "!wget 'https://drive.google.com/uc?export=download&id=1oSFOP0j25OZAuhD8YXxyQXNTdr2lUdtn' -O requirements.txt\n",
        "!pip install -r requirements.txt"
      ],
      "execution_count": null,
      "outputs": [
        {
          "output_type": "stream",
          "name": "stdout",
          "text": [
            "--2022-05-23 13:33:10--  https://drive.google.com/uc?export=download&id=1oSFOP0j25OZAuhD8YXxyQXNTdr2lUdtn\n",
            "Resolving drive.google.com (drive.google.com)... 173.194.216.101, 173.194.216.113, 173.194.216.100, ...\n",
            "Connecting to drive.google.com (drive.google.com)|173.194.216.101|:443... connected.\n",
            "HTTP request sent, awaiting response... 303 See Other\n",
            "Location: https://doc-0g-c0-docs.googleusercontent.com/docs/securesc/ha0ro937gcuc7l7deffksulhg5h7mbp1/djbnqnsnsh3098mg1u5mpqi9neuq05g1/1653312750000/14904333240138417226/*/1oSFOP0j25OZAuhD8YXxyQXNTdr2lUdtn?e=download [following]\n",
            "Warning: wildcards not supported in HTTP.\n",
            "--2022-05-23 13:33:10--  https://doc-0g-c0-docs.googleusercontent.com/docs/securesc/ha0ro937gcuc7l7deffksulhg5h7mbp1/djbnqnsnsh3098mg1u5mpqi9neuq05g1/1653312750000/14904333240138417226/*/1oSFOP0j25OZAuhD8YXxyQXNTdr2lUdtn?e=download\n",
            "Resolving doc-0g-c0-docs.googleusercontent.com (doc-0g-c0-docs.googleusercontent.com)... 172.217.193.132, 2607:f8b0:400c:c03::84\n",
            "Connecting to doc-0g-c0-docs.googleusercontent.com (doc-0g-c0-docs.googleusercontent.com)|172.217.193.132|:443... connected.\n",
            "HTTP request sent, awaiting response... 200 OK\n",
            "Length: 74 [text/plain]\n",
            "Saving to: ‘requirements.txt’\n",
            "\n",
            "requirements.txt    100%[===================>]      74  --.-KB/s    in 0s      \n",
            "\n",
            "2022-05-23 13:33:10 (4.36 MB/s) - ‘requirements.txt’ saved [74/74]\n",
            "\n",
            "Requirement already satisfied: scikit-learn==0.22.2.post1 in /usr/local/lib/python3.7/dist-packages (from -r requirements.txt (line 1)) (0.22.2.post1)\n",
            "Requirement already satisfied: pandas==1.1.5 in /usr/local/lib/python3.7/dist-packages (from -r requirements.txt (line 2)) (1.1.5)\n",
            "Requirement already satisfied: matplotlib==3.2.2 in /usr/local/lib/python3.7/dist-packages (from -r requirements.txt (line 3)) (3.2.2)\n",
            "Requirement already satisfied: numpy==1.19.5 in /usr/local/lib/python3.7/dist-packages (from -r requirements.txt (line 4)) (1.19.5)\n",
            "Requirement already satisfied: scipy>=0.17.0 in /usr/local/lib/python3.7/dist-packages (from scikit-learn==0.22.2.post1->-r requirements.txt (line 1)) (1.4.1)\n",
            "Requirement already satisfied: joblib>=0.11 in /usr/local/lib/python3.7/dist-packages (from scikit-learn==0.22.2.post1->-r requirements.txt (line 1)) (1.1.0)\n",
            "Requirement already satisfied: python-dateutil>=2.7.3 in /usr/local/lib/python3.7/dist-packages (from pandas==1.1.5->-r requirements.txt (line 2)) (2.8.2)\n",
            "Requirement already satisfied: pytz>=2017.2 in /usr/local/lib/python3.7/dist-packages (from pandas==1.1.5->-r requirements.txt (line 2)) (2022.1)\n",
            "Requirement already satisfied: cycler>=0.10 in /usr/local/lib/python3.7/dist-packages (from matplotlib==3.2.2->-r requirements.txt (line 3)) (0.11.0)\n",
            "Requirement already satisfied: kiwisolver>=1.0.1 in /usr/local/lib/python3.7/dist-packages (from matplotlib==3.2.2->-r requirements.txt (line 3)) (1.4.2)\n",
            "Requirement already satisfied: pyparsing!=2.0.4,!=2.1.2,!=2.1.6,>=2.0.1 in /usr/local/lib/python3.7/dist-packages (from matplotlib==3.2.2->-r requirements.txt (line 3)) (3.0.9)\n",
            "Requirement already satisfied: typing-extensions in /usr/local/lib/python3.7/dist-packages (from kiwisolver>=1.0.1->matplotlib==3.2.2->-r requirements.txt (line 3)) (4.2.0)\n",
            "Requirement already satisfied: six>=1.5 in /usr/local/lib/python3.7/dist-packages (from python-dateutil>=2.7.3->pandas==1.1.5->-r requirements.txt (line 2)) (1.15.0)\n"
          ]
        }
      ]
    },
    {
      "cell_type": "markdown",
      "source": [
        "## План занятия:\n",
        "- Изучение набора данных с помощью атрибутов numpy массивов\n",
        "- Применение математических операции к numpy массивам\n",
        "- Индексирование\n",
        "- Фильтрация данных и выбыр необходимых\n",
        "- Итоги"
      ],
      "metadata": {
        "id": "SvOVv715Rh0X"
      }
    },
    {
      "cell_type": "markdown",
      "metadata": {
        "id": "RmcjY5KeviKG"
      },
      "source": [
        "## 1. Введение в numpy"
      ]
    },
    {
      "cell_type": "markdown",
      "source": [
        "### 1.1 Импортируйте библиотеку numpy и дайте ей псевдоним np "
      ],
      "metadata": {
        "id": "kOhZ6TfhlVPm"
      }
    },
    {
      "cell_type": "code",
      "source": [
        "import numpy as np"
      ],
      "metadata": {
        "id": "9RlH5YiLfFiW"
      },
      "execution_count": null,
      "outputs": []
    },
    {
      "cell_type": "markdown",
      "source": [
        "### 1.2 Считайте данные из txt файлы\n",
        "\n",
        "Файл находится на google диске: https://drive.google.com/file/d/1aT6L4dPtz0XaYXGpumwn2W1TpC6TIujl\n",
        "\n",
        "В нем представлены данные людей:\n",
        "- 1 колонка - возраст человека\n",
        "- 2 колонка - вес человека\n",
        "- 3 колонка - рост человека"
      ],
      "metadata": {
        "id": "Sy8Zf0Q0kj93"
      }
    },
    {
      "cell_type": "code",
      "source": [
        "!wget 'https://drive.google.com/uc?id=1aT6L4dPtz0XaYXGpumwn2W1TpC6TIujl' -O data_practice.txt"
      ],
      "metadata": {
        "id": "6Mc3S8RFq0M-",
        "colab": {
          "base_uri": "https://localhost:8080/"
        },
        "outputId": "9733ace8-349f-482c-fdc0-1a0668dfad41"
      },
      "execution_count": null,
      "outputs": [
        {
          "output_type": "stream",
          "name": "stdout",
          "text": [
            "--2022-05-23 13:33:13--  https://drive.google.com/uc?id=1aT6L4dPtz0XaYXGpumwn2W1TpC6TIujl\n",
            "Resolving drive.google.com (drive.google.com)... 173.194.216.139, 173.194.216.101, 173.194.216.102, ...\n",
            "Connecting to drive.google.com (drive.google.com)|173.194.216.139|:443... connected.\n",
            "HTTP request sent, awaiting response... 303 See Other\n",
            "Location: https://doc-0g-c0-docs.googleusercontent.com/docs/securesc/ha0ro937gcuc7l7deffksulhg5h7mbp1/cjubuvk8353j0fgqvo8g6cgbi4dp2t9k/1653312750000/14904333240138417226/*/1aT6L4dPtz0XaYXGpumwn2W1TpC6TIujl [following]\n",
            "Warning: wildcards not supported in HTTP.\n",
            "--2022-05-23 13:33:14--  https://doc-0g-c0-docs.googleusercontent.com/docs/securesc/ha0ro937gcuc7l7deffksulhg5h7mbp1/cjubuvk8353j0fgqvo8g6cgbi4dp2t9k/1653312750000/14904333240138417226/*/1aT6L4dPtz0XaYXGpumwn2W1TpC6TIujl\n",
            "Resolving doc-0g-c0-docs.googleusercontent.com (doc-0g-c0-docs.googleusercontent.com)... 172.217.193.132, 2607:f8b0:400c:c03::84\n",
            "Connecting to doc-0g-c0-docs.googleusercontent.com (doc-0g-c0-docs.googleusercontent.com)|172.217.193.132|:443... connected.\n",
            "HTTP request sent, awaiting response... 200 OK\n",
            "Length: 7500 (7.3K) [text/plain]\n",
            "Saving to: ‘data_practice.txt’\n",
            "\n",
            "data_practice.txt   100%[===================>]   7.32K  --.-KB/s    in 0s      \n",
            "\n",
            "2022-05-23 13:33:14 (65.4 MB/s) - ‘data_practice.txt’ saved [7500/7500]\n",
            "\n"
          ]
        }
      ]
    },
    {
      "cell_type": "markdown",
      "source": [
        ""
      ],
      "metadata": {
        "id": "rBr6wPcxhpsI"
      }
    },
    {
      "cell_type": "markdown",
      "source": [
        "### 1.3. Выведите основную информацию по данным\n",
        "\n",
        "1. Сколько есть людей в данных?\n",
        "2. Сколько измерений есть в данных?\n",
        "3. Какой тип данных?\n",
        "4. Сколько всего есть элементов в данных?"
      ],
      "metadata": {
        "id": "d_QwPWAafHoo"
      }
    },
    {
      "cell_type": "code",
      "source": [
        "data = np.loadtxt('data_practice.txt')\n",
        "data.shape\n"
      ],
      "metadata": {
        "id": "3RDreXYyfdWJ",
        "colab": {
          "base_uri": "https://localhost:8080/"
        },
        "outputId": "8085c617-e519-4724-ea7a-f4b4e34950c5"
      },
      "execution_count": null,
      "outputs": [
        {
          "output_type": "execute_result",
          "data": {
            "text/plain": [
              "(100, 3)"
            ]
          },
          "metadata": {},
          "execution_count": 77
        }
      ]
    },
    {
      "cell_type": "code",
      "source": [
        "data.size"
      ],
      "metadata": {
        "id": "cQxsEn1DpG2K",
        "colab": {
          "base_uri": "https://localhost:8080/"
        },
        "outputId": "eec69fef-1b5c-47c3-d03b-f8862c4250df"
      },
      "execution_count": null,
      "outputs": [
        {
          "output_type": "execute_result",
          "data": {
            "text/plain": [
              "300"
            ]
          },
          "metadata": {},
          "execution_count": 78
        }
      ]
    },
    {
      "cell_type": "code",
      "source": [
        "data.dtype"
      ],
      "metadata": {
        "id": "-tLIZEsnpNED",
        "colab": {
          "base_uri": "https://localhost:8080/"
        },
        "outputId": "62ec7aeb-b201-4cab-e552-d5507387baed"
      },
      "execution_count": null,
      "outputs": [
        {
          "output_type": "execute_result",
          "data": {
            "text/plain": [
              "dtype('float64')"
            ]
          },
          "metadata": {},
          "execution_count": 79
        }
      ]
    },
    {
      "cell_type": "markdown",
      "source": [
        "## 2. Индексирование и математические операции"
      ],
      "metadata": {
        "id": "iJCI1Aiyr9Ir"
      }
    },
    {
      "cell_type": "markdown",
      "source": [
        "### 2.1 Посмотрите данные по первым 5 людям"
      ],
      "metadata": {
        "id": "1begVj-Az7q2"
      }
    },
    {
      "cell_type": "code",
      "source": [
        "data[:5]"
      ],
      "metadata": {
        "id": "GFC-87tz0K1q",
        "colab": {
          "base_uri": "https://localhost:8080/"
        },
        "outputId": "2e81f12f-792a-4efa-bfa6-76fb97672895"
      },
      "execution_count": null,
      "outputs": [
        {
          "output_type": "execute_result",
          "data": {
            "text/plain": [
              "array([[ 43.,  62., 170.],\n",
              "       [ 46.,  90., 173.],\n",
              "       [ 35.,  54., 162.],\n",
              "       [ 48., 104., 175.],\n",
              "       [ 39.,  89., 166.]])"
            ]
          },
          "metadata": {},
          "execution_count": 80
        }
      ]
    },
    {
      "cell_type": "markdown",
      "source": [
        "### 2.2 Найдите рост самого высокого человека"
      ],
      "metadata": {
        "id": "jrlBvDD6z9m3"
      }
    },
    {
      "cell_type": "code",
      "source": [
        "data[:,2].max()"
      ],
      "metadata": {
        "id": "JCwHgxyH0My_",
        "colab": {
          "base_uri": "https://localhost:8080/"
        },
        "outputId": "d955cb50-2897-4800-b9b3-31c5aa5da6b2"
      },
      "execution_count": null,
      "outputs": [
        {
          "output_type": "execute_result",
          "data": {
            "text/plain": [
              "189.0"
            ]
          },
          "metadata": {},
          "execution_count": 81
        }
      ]
    },
    {
      "cell_type": "markdown",
      "source": [
        "### 2.3 Выведите данные по самому молодому человека"
      ],
      "metadata": {
        "id": "qKG_MIkxz-_m"
      }
    },
    {
      "cell_type": "code",
      "source": [
        "idx=data[:,0].argmin()\n",
        "data[idx]"
      ],
      "metadata": {
        "id": "dIMVuI_x0NKM",
        "colab": {
          "base_uri": "https://localhost:8080/"
        },
        "outputId": "291f274a-fcd4-493e-fb7b-321048a6081a"
      },
      "execution_count": null,
      "outputs": [
        {
          "output_type": "execute_result",
          "data": {
            "text/plain": [
              "array([ 23.,  38., 150.])"
            ]
          },
          "metadata": {},
          "execution_count": 82
        }
      ]
    },
    {
      "cell_type": "markdown",
      "source": [
        "### 2.4 Выведите средние значения веса и роста"
      ],
      "metadata": {
        "id": "os0yCiWGz_uP"
      }
    },
    {
      "cell_type": "code",
      "source": [
        "data[:,[1,2]].mean(axis=0)\n"
      ],
      "metadata": {
        "id": "e7SbXo520Nu8",
        "colab": {
          "base_uri": "https://localhost:8080/"
        },
        "outputId": "a9ce639f-7b56-419b-bb3e-0359ac9e86c4"
      },
      "execution_count": null,
      "outputs": [
        {
          "output_type": "execute_result",
          "data": {
            "text/plain": [
              "array([ 78.94, 169.81])"
            ]
          },
          "metadata": {},
          "execution_count": 83
        }
      ]
    },
    {
      "cell_type": "markdown",
      "source": [
        "### 2.5 Посчитайте ИМТ (BMI) людей\n",
        "\n",
        "ИМТ - Индекс массы тела (англ. BMI - body mass index) - это величина, применяемая для оценки степени соответствия роста и массы человека и оценки массы тела (масса тела может быть нормальной, недостаточной, избыточной). Индекс массы тела рассчитывается по формуле: $$ИМТ = \\frac{масса (кг)}{рост^2 (м^2)}$$\n",
        "\n",
        "*Обратите внимание на измерения роста, они представлены в данных в сантиметрах.*"
      ],
      "metadata": {
        "id": "ReyXLKq61E1h"
      }
    },
    {
      "cell_type": "code",
      "source": [
        "#imt=np.array(data[:,1]/(data[:,2]/100)**2)\n",
        "weight=data[:,1]\n",
        "height=(data[:,2]/100)**2\n",
        "imt=weight/height\n",
        "imt"
      ],
      "metadata": {
        "id": "U_fOhBj91YUn",
        "colab": {
          "base_uri": "https://localhost:8080/"
        },
        "outputId": "b0fee691-0494-4725-c7c3-7120e7923b1b"
      },
      "execution_count": null,
      "outputs": [
        {
          "output_type": "execute_result",
          "data": {
            "text/plain": [
              "array([21.4532872 , 30.07116843, 20.57613169, 33.95918367, 32.29786616,\n",
              "       33.26706966, 23.7953599 , 33.69005153, 34.14007572, 32.03125   ,\n",
              "       31.70828379, 22.05805119, 22.38631428, 25.35154137, 21.484375  ,\n",
              "       22.64737696, 30.48668503, 28.982007  , 32.97959184, 28.02768166,\n",
              "       26.29172382, 24.22145329, 20.86111966, 27.34375   , 26.8809517 ,\n",
              "       21.71806609, 30.45776225, 24.69040546, 24.78425752, 33.62208773,\n",
              "       23.42355741, 27.08415907, 23.183391  , 21.05170826, 30.86300683,\n",
              "       22.92097107, 26.30361892, 25.53544639, 30.47796622, 28.73192149,\n",
              "       32.421875  , 21.79944511, 22.15102251, 31.1613739 , 34.36791383,\n",
              "       27.44059917, 31.91222346, 25.9043101 , 21.2585034 , 31.63739669,\n",
              "       22.5981405 , 28.72008325, 32.1799308 , 21.10726644, 27.09925101,\n",
              "       30.43671557, 24.03460984, 30.05681068, 34.02034615, 33.46403461,\n",
              "       29.95436858, 28.73174689, 21.4532872 , 27.88518739, 28.05570579,\n",
              "       30.48315806, 30.86419753, 24.9107674 , 28.04281659, 27.17311907,\n",
              "       32.77051278, 24.28097534, 31.13458075, 29.41073492, 31.96022727,\n",
              "       22.83737024, 24.38652644, 24.05693475, 22.02432251, 29.76083761,\n",
              "       30.86300683, 31.95592287, 16.88888889, 29.38475666, 20.44674202,\n",
              "       25.43646664, 25.71166208, 31.2385898 , 22.27530992, 33.65929705,\n",
              "       21.10726644, 22.22906193, 25.30693205, 20.43816558, 31.91930799,\n",
              "       31.37798917, 29.75758456, 21.2585034 , 26.6727633 , 33.12601406])"
            ]
          },
          "metadata": {},
          "execution_count": 84
        }
      ]
    },
    {
      "cell_type": "markdown",
      "source": [
        "## 3. Фильтрация по данным"
      ],
      "metadata": {
        "id": "4VdxtrQJ2NyT"
      }
    },
    {
      "cell_type": "markdown",
      "source": [
        "### 3.1 Выведите только данные тех людей, у которых ИМТ находится в категории \"Ожирение (Класс I)\" и выше.\n",
        "\n",
        "Категории ИМТ:\n",
        "\n",
        "- Крайний недостаток веса - менее 16.5 \n",
        "- Недостаток в весе от 16.5 до 18.4 \n",
        "- Нормальный вес тела от 18.5 до 24.9 \n",
        "- Избыточная масса тела от 25 до 30\n",
        "- Ожирение (Класс I) от 30.1 до 34.9 \n",
        "- Ожирение (Класс II - тяжелое) от 35 до 40 \n",
        "- Ожирение (Класс III - крайне тяжелое) более 40\n",
        "\n",
        "\n"
      ],
      "metadata": {
        "id": "WtRLm19R2X6W"
      }
    },
    {
      "cell_type": "code",
      "source": [
        "imt_big=data[imt>=30.1]\n",
        "imt_big"
      ],
      "metadata": {
        "id": "GL379yMT2bhR",
        "colab": {
          "base_uri": "https://localhost:8080/"
        },
        "outputId": "51dd7d3e-5fd4-49ae-9b79-e26572a3eb9c"
      },
      "execution_count": null,
      "outputs": [
        {
          "output_type": "execute_result",
          "data": {
            "text/plain": [
              "array([[ 48., 104., 175.],\n",
              "       [ 39.,  89., 166.],\n",
              "       [ 30.,  82., 157.],\n",
              "       [ 47., 102., 174.],\n",
              "       [ 45., 101., 172.],\n",
              "       [ 33.,  82., 160.],\n",
              "       [ 47.,  96., 174.],\n",
              "       [ 38.,  83., 165.],\n",
              "       [ 48., 101., 175.],\n",
              "       [ 56., 102., 183.],\n",
              "       [ 32.,  85., 159.],\n",
              "       [ 34.,  80., 161.],\n",
              "       [ 40.,  85., 167.],\n",
              "       [ 33.,  83., 160.],\n",
              "       [ 42.,  89., 169.],\n",
              "       [ 41.,  97., 168.],\n",
              "       [ 40.,  89., 167.],\n",
              "       [ 49.,  98., 176.],\n",
              "       [ 43.,  93., 170.],\n",
              "       [ 44.,  89., 171.],\n",
              "       [ 47., 103., 174.],\n",
              "       [ 45.,  99., 172.],\n",
              "       [ 35.,  80., 162.],\n",
              "       [ 53., 100., 180.],\n",
              "       [ 52., 105., 179.],\n",
              "       [ 54., 102., 181.],\n",
              "       [ 49.,  99., 176.],\n",
              "       [ 34.,  80., 161.],\n",
              "       [ 38.,  87., 165.],\n",
              "       [ 30.,  77., 157.],\n",
              "       [ 41.,  95., 168.],\n",
              "       [ 50., 100., 177.],\n",
              "       [ 47.,  95., 174.],\n",
              "       [ 45.,  98., 172.]])"
            ]
          },
          "metadata": {},
          "execution_count": 85
        }
      ]
    },
    {
      "cell_type": "markdown",
      "source": [
        "### 3.2 Найдите в этой группе людей средний возраст, вес и рост"
      ],
      "metadata": {
        "id": "R971Tuqk2ZFx"
      }
    },
    {
      "cell_type": "code",
      "source": [
        "# Ваш код здесь\n",
        "imt_big_mean=imt_big.mean(axis=0)\n",
        "imt_big_mean"
      ],
      "metadata": {
        "id": "5lYr0DFm2c3K",
        "colab": {
          "base_uri": "https://localhost:8080/"
        },
        "outputId": "8382ebc7-0366-45cf-ac06-49426a22b856"
      },
      "execution_count": null,
      "outputs": [
        {
          "output_type": "execute_result",
          "data": {
            "text/plain": [
              "array([ 42.61764706,  92.64705882, 169.61764706])"
            ]
          },
          "metadata": {},
          "execution_count": 86
        }
      ]
    },
    {
      "cell_type": "markdown",
      "source": [
        "### 3.3 Пометьте в исходном наборе данных людей с п.1 единицами"
      ],
      "metadata": {
        "id": "5QPHE4OM2Z0z"
      }
    },
    {
      "cell_type": "code",
      "source": [
        "#@title Подсказки\n",
        "# 1. Создайте заготовку состоящую из нулей\n",
        "# 2. Просоедините эту заготовку к исходному набору данных\n",
        "# 3. Проставьте единицы в новый столбик, если BMI > 30.1"
      ],
      "metadata": {
        "id": "sJuwIcVpA5l8"
      },
      "execution_count": null,
      "outputs": []
    },
    {
      "cell_type": "code",
      "source": [
        "# Ваш код здесь\n",
        "imt_excessive=np.zeros(100)\n",
        "imt_excessive\n",
        "data=np.column_stack([data,imt_excessive])\n",
        "\n",
        "data[imt>=30.1,3]=1\n",
        "data"
      ],
      "metadata": {
        "id": "H-Qz4qCJ2dPF",
        "colab": {
          "base_uri": "https://localhost:8080/"
        },
        "outputId": "664579a6-275a-41a5-91a2-efe0335ca9db"
      },
      "execution_count": null,
      "outputs": [
        {
          "output_type": "execute_result",
          "data": {
            "text/plain": [
              "array([[ 43.,  62., 170.,   0.],\n",
              "       [ 46.,  90., 173.,   0.],\n",
              "       [ 35.,  54., 162.,   0.],\n",
              "       [ 48., 104., 175.,   1.],\n",
              "       [ 39.,  89., 166.,   1.],\n",
              "       [ 30.,  82., 157.,   1.],\n",
              "       [ 37.,  64., 164.,   0.],\n",
              "       [ 47., 102., 174.,   1.],\n",
              "       [ 45., 101., 172.,   1.],\n",
              "       [ 33.,  82., 160.,   1.],\n",
              "       [ 47.,  96., 174.,   1.],\n",
              "       [ 42.,  63., 169.,   0.],\n",
              "       [ 46.,  67., 173.,   0.],\n",
              "       [ 45.,  75., 172.,   0.],\n",
              "       [ 33.,  55., 160.,   0.],\n",
              "       [ 45.,  67., 172.,   0.],\n",
              "       [ 38.,  83., 165.,   1.],\n",
              "       [ 55.,  96., 182.,   0.],\n",
              "       [ 48., 101., 175.,   1.],\n",
              "       [ 43.,  81., 170.,   0.],\n",
              "       [ 35.,  69., 162.,   0.],\n",
              "       [ 43.,  70., 170.,   0.],\n",
              "       [ 44.,  61., 171.,   0.],\n",
              "       [ 33.,  70., 160.,   0.],\n",
              "       [ 60.,  94., 187.,   0.],\n",
              "       [ 46.,  65., 173.,   0.],\n",
              "       [ 56., 102., 183.,   1.],\n",
              "       [ 34.,  64., 161.,   0.],\n",
              "       [ 56.,  83., 183.,   0.],\n",
              "       [ 32.,  85., 159.,   1.],\n",
              "       [ 37.,  63., 164.,   0.],\n",
              "       [ 47.,  82., 174.,   0.],\n",
              "       [ 43.,  67., 170.,   0.],\n",
              "       [ 24.,  48., 151.,   0.],\n",
              "       [ 34.,  80., 161.,   1.],\n",
              "       [ 49.,  71., 176.,   0.],\n",
              "       [ 59.,  91., 186.,   0.],\n",
              "       [ 50.,  80., 177.,   0.],\n",
              "       [ 40.,  85., 167.,   1.],\n",
              "       [ 49.,  89., 176.,   0.],\n",
              "       [ 33.,  83., 160.,   1.],\n",
              "       [ 47.,  66., 174.,   0.],\n",
              "       [ 32.,  56., 159.,   0.],\n",
              "       [ 42.,  89., 169.,   1.],\n",
              "       [ 41.,  97., 168.,   1.],\n",
              "       [ 49.,  85., 176.,   0.],\n",
              "       [ 40.,  89., 167.,   1.],\n",
              "       [ 52.,  83., 179.,   0.],\n",
              "       [ 41.,  60., 168.,   0.],\n",
              "       [ 49.,  98., 176.,   1.],\n",
              "       [ 49.,  70., 176.,   0.],\n",
              "       [ 28.,  69., 155.,   0.],\n",
              "       [ 43.,  93., 170.,   1.],\n",
              "       [ 43.,  61., 170.,   0.],\n",
              "       [ 36.,  72., 163.,   0.],\n",
              "       [ 44.,  89., 171.,   1.],\n",
              "       [ 31.,  60., 158.,   0.],\n",
              "       [ 47.,  91., 174.,   0.],\n",
              "       [ 47., 103., 174.,   1.],\n",
              "       [ 45.,  99., 172.,   1.],\n",
              "       [ 62., 107., 189.,   0.],\n",
              "       [ 45.,  85., 172.,   0.],\n",
              "       [ 43.,  62., 170.,   0.],\n",
              "       [ 37.,  75., 164.,   0.],\n",
              "       [ 45.,  83., 172.,   0.],\n",
              "       [ 35.,  80., 162.,   1.],\n",
              "       [ 53., 100., 180.,   1.],\n",
              "       [ 37.,  67., 164.,   0.],\n",
              "       [ 44.,  82., 171.,   0.],\n",
              "       [ 58.,  93., 185.,   0.],\n",
              "       [ 52., 105., 179.,   1.],\n",
              "       [ 44.,  71., 171.,   0.],\n",
              "       [ 54., 102., 181.,   1.],\n",
              "       [ 42.,  84., 169.,   0.],\n",
              "       [ 49.,  99., 176.,   1.],\n",
              "       [ 43.,  66., 170.,   0.],\n",
              "       [ 35.,  64., 162.,   0.],\n",
              "       [ 46.,  72., 173.,   0.],\n",
              "       [ 50.,  69., 177.,   0.],\n",
              "       [ 40.,  83., 167.,   0.],\n",
              "       [ 34.,  80., 161.,   1.],\n",
              "       [ 38.,  87., 165.,   1.],\n",
              "       [ 23.,  38., 150.,   0.],\n",
              "       [ 38.,  80., 165.,   0.],\n",
              "       [ 34.,  53., 161.,   0.],\n",
              "       [ 59.,  88., 186.,   0.],\n",
              "       [ 38.,  70., 165.,   0.],\n",
              "       [ 30.,  77., 157.,   1.],\n",
              "       [ 49.,  69., 176.,   0.],\n",
              "       [ 41.,  95., 168.,   1.],\n",
              "       [ 43.,  61., 170.,   0.],\n",
              "       [ 44.,  65., 171.,   0.],\n",
              "       [ 44.,  74., 171.,   0.],\n",
              "       [ 40.,  57., 167.,   0.],\n",
              "       [ 50., 100., 177.,   1.],\n",
              "       [ 47.,  95., 174.,   1.],\n",
              "       [ 39.,  82., 166.,   0.],\n",
              "       [ 41.,  60., 168.,   0.],\n",
              "       [ 35.,  70., 162.,   0.],\n",
              "       [ 45.,  98., 172.,   1.]])"
            ]
          },
          "metadata": {},
          "execution_count": 87
        }
      ]
    },
    {
      "cell_type": "markdown",
      "source": [
        "### 3.4 Проверьте правильность простановки единиц в новой колонке\n",
        "\n",
        "Возьмите одного любого человека с единицей в новом столбце и посчитайте его bmi."
      ],
      "metadata": {
        "id": "lUt5uKzm2alw"
      }
    },
    {
      "cell_type": "code",
      "source": [
        "# Ваш код здесь\n",
        "imt[5]"
      ],
      "metadata": {
        "id": "Es2tO9c52dki",
        "colab": {
          "base_uri": "https://localhost:8080/"
        },
        "outputId": "3f84a359-f3fb-4f26-ffe8-ca230972488f"
      },
      "execution_count": null,
      "outputs": [
        {
          "output_type": "execute_result",
          "data": {
            "text/plain": [
              "33.26706965799829"
            ]
          },
          "metadata": {},
          "execution_count": 90
        }
      ]
    },
    {
      "cell_type": "markdown",
      "source": [
        "### 3.5 Посчитайте, сколько людей находится в каждой группе по ИМТ\n",
        "\n",
        "\n",
        "Категории ИМТ:\n",
        "\n",
        "- Крайний недостаток веса - менее 16.5 \n",
        "- Недостаток в весе от 16.5 до 18.4 \n",
        "- Нормальный вес тела от 18.5 до 24.9 \n",
        "- Избыточная масса тела от 25 до 30\n",
        "- Ожирение (Класс I) от 30.1 до 34.9 \n",
        "- Ожирение (Класс II - тяжелое) от 35 до 40 \n",
        "- Ожирение (Класс III - крайне тяжелое) более 40\n",
        "\n",
        "*Объединять условия в numpy можно через `&`, через более привычный `and`, к сожалению, не получится*"
      ],
      "metadata": {
        "id": "5DIQNrRtDrAX"
      }
    },
    {
      "cell_type": "code",
      "source": [
        "# Ваш код здесь\n",
        "imt_1=data[imt<16.5].shape[0]\n",
        "\n",
        "imt_2=data[(imt>=16.5) & (imt<=18.4)].shape[0]\n",
        "imt_2\n"
      ],
      "metadata": {
        "id": "FX5QxqWXDyNQ",
        "colab": {
          "base_uri": "https://localhost:8080/"
        },
        "outputId": "b4fb4aca-2dad-4b01-e84f-6b8d8eebc1ad"
      },
      "execution_count": null,
      "outputs": [
        {
          "output_type": "execute_result",
          "data": {
            "text/plain": [
              "1"
            ]
          },
          "metadata": {},
          "execution_count": 103
        }
      ]
    },
    {
      "cell_type": "code",
      "source": [
        "from google.colab import drive\n",
        "drive.mount('/content/drive')"
      ],
      "metadata": {
        "id": "WgniAEntLbVJ"
      },
      "execution_count": null,
      "outputs": []
    },
    {
      "cell_type": "markdown",
      "source": [
        "### 3.6 Убедитесь, что суммарно по категориям людей вышло 100"
      ],
      "metadata": {
        "id": "HqZMr7a4Eyuj"
      }
    },
    {
      "cell_type": "code",
      "source": [
        "# Ваш код здесь"
      ],
      "metadata": {
        "id": "fCC8drqoEsSJ"
      },
      "execution_count": null,
      "outputs": []
    },
    {
      "cell_type": "markdown",
      "source": [
        "#### 3.6.1 Если людей вышло меньше, то подумайте, почему так вышло"
      ],
      "metadata": {
        "id": "Le6L2cBhFZOR"
      }
    },
    {
      "cell_type": "code",
      "source": [
        "# Ваши мысли здесь"
      ],
      "metadata": {
        "id": "-zuMja3GFcjK"
      },
      "execution_count": null,
      "outputs": []
    },
    {
      "cell_type": "markdown",
      "source": [
        "#### 3.6.2 И как это можно исправить"
      ],
      "metadata": {
        "id": "j1VJpU8gFv33"
      }
    },
    {
      "cell_type": "code",
      "source": [
        "# Ваш код здесь"
      ],
      "metadata": {
        "id": "suxmPHj1E1Ni"
      },
      "execution_count": null,
      "outputs": []
    },
    {
      "cell_type": "markdown",
      "source": [
        "#### 3.6.3 Заново посчитайте количество людей в каждой категории"
      ],
      "metadata": {
        "id": "WSvRFenjF3Ko"
      }
    },
    {
      "cell_type": "code",
      "source": [
        "# Ваш код здесь"
      ],
      "metadata": {
        "id": "snjs38fYE9kC"
      },
      "execution_count": null,
      "outputs": []
    },
    {
      "cell_type": "markdown",
      "source": [
        "#### 3.6.4 И проверьте, что суммарно вышло 100 людей"
      ],
      "metadata": {
        "id": "E_c18wYhF9l9"
      }
    },
    {
      "cell_type": "code",
      "source": [
        "# Ваш код здесь"
      ],
      "metadata": {
        "id": "hO_9m16jFAYS"
      },
      "execution_count": null,
      "outputs": []
    },
    {
      "cell_type": "markdown",
      "source": [
        "## Резюме\n",
        "Сегодня на практическом занятии:\n",
        "1. Поизучали набор данных с помощью атрибутов numpy массивов\n",
        "2. Применили математические операции к numpy массивам\n",
        "3. Пофильтровали данные и выбрали для нас необходимые"
      ],
      "metadata": {
        "id": "VgBSMbZHhvbe"
      }
    }
  ]
}