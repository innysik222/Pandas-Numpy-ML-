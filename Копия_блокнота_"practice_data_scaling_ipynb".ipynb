{
  "nbformat": 4,
  "nbformat_minor": 0,
  "metadata": {
    "colab": {
      "name": "Копия блокнота \"practice.data_scaling.ipynb\"",
      "provenance": [],
      "collapsed_sections": [],
      "include_colab_link": true
    },
    "kernelspec": {
      "name": "python3",
      "display_name": "Python 3"
    },
    "language_info": {
      "name": "python"
    }
  },
  "cells": [
    {
      "cell_type": "markdown",
      "metadata": {
        "id": "view-in-github",
        "colab_type": "text"
      },
      "source": [
        "<a href=\"https://colab.research.google.com/github/innysik222/Pandas-Numpy-ML-/blob/main/%D0%9A%D0%BE%D0%BF%D0%B8%D1%8F_%D0%B1%D0%BB%D0%BE%D0%BA%D0%BD%D0%BE%D1%82%D0%B0_%22practice_data_scaling_ipynb%22.ipynb\" target=\"_parent\"><img src=\"https://colab.research.google.com/assets/colab-badge.svg\" alt=\"Open In Colab\"/></a>"
      ]
    },
    {
      "cell_type": "markdown",
      "source": [
        "# Масштабирование данных"
      ],
      "metadata": {
        "id": "YENBrjbPiQwC"
      }
    },
    {
      "cell_type": "markdown",
      "source": [
        "## Сегодня на практическом занятии:\n",
        "1. Узнаем, как масштабировать данные\n",
        "2. Поэкспериментируем с двумя моделями\n",
        "3. Напишем свой класс для нормализации данных\n",
        "4. Напишем свой класс для стандартизации данных"
      ],
      "metadata": {
        "id": "D01f4B0GiNGC"
      }
    },
    {
      "cell_type": "code",
      "metadata": {
        "colab": {
          "base_uri": "https://localhost:8080/"
        },
        "id": "2aEQws1__x5W",
        "outputId": "8057647e-afc9-46d8-b870-04ed1bdc62fe",
        "cellView": "form"
      },
      "source": [
        "#@title Установка нужных версий библиотек\n",
        "!wget 'https://drive.google.com/uc?export=download&id=1oSFOP0j25OZAuhD8YXxyQXNTdr2lUdtn' -O requirements.txt\n",
        "!pip install -r requirements.txt"
      ],
      "execution_count": null,
      "outputs": [
        {
          "output_type": "stream",
          "name": "stdout",
          "text": [
            "--2022-05-26 11:25:51--  https://drive.google.com/uc?export=download&id=1oSFOP0j25OZAuhD8YXxyQXNTdr2lUdtn\n",
            "Resolving drive.google.com (drive.google.com)... 74.125.197.113, 74.125.197.102, 74.125.197.100, ...\n",
            "Connecting to drive.google.com (drive.google.com)|74.125.197.113|:443... connected.\n",
            "HTTP request sent, awaiting response... 303 See Other\n",
            "Location: https://doc-0g-c0-docs.googleusercontent.com/docs/securesc/ha0ro937gcuc7l7deffksulhg5h7mbp1/0l76s4ompgj0u8v1erbeg0gboa794ld8/1653564300000/14904333240138417226/*/1oSFOP0j25OZAuhD8YXxyQXNTdr2lUdtn?e=download [following]\n",
            "Warning: wildcards not supported in HTTP.\n",
            "--2022-05-26 11:25:51--  https://doc-0g-c0-docs.googleusercontent.com/docs/securesc/ha0ro937gcuc7l7deffksulhg5h7mbp1/0l76s4ompgj0u8v1erbeg0gboa794ld8/1653564300000/14904333240138417226/*/1oSFOP0j25OZAuhD8YXxyQXNTdr2lUdtn?e=download\n",
            "Resolving doc-0g-c0-docs.googleusercontent.com (doc-0g-c0-docs.googleusercontent.com)... 74.125.195.132, 2607:f8b0:400e:c09::84\n",
            "Connecting to doc-0g-c0-docs.googleusercontent.com (doc-0g-c0-docs.googleusercontent.com)|74.125.195.132|:443... connected.\n",
            "HTTP request sent, awaiting response... 200 OK\n",
            "Length: 74 [text/plain]\n",
            "Saving to: ‘requirements.txt’\n",
            "\n",
            "requirements.txt    100%[===================>]      74  --.-KB/s    in 0s      \n",
            "\n",
            "2022-05-26 11:25:51 (1.24 MB/s) - ‘requirements.txt’ saved [74/74]\n",
            "\n",
            "Looking in indexes: https://pypi.org/simple, https://us-python.pkg.dev/colab-wheels/public/simple/\n",
            "Requirement already satisfied: scikit-learn==0.22.2.post1 in /usr/local/lib/python3.7/dist-packages (from -r requirements.txt (line 1)) (0.22.2.post1)\n",
            "Requirement already satisfied: pandas==1.1.5 in /usr/local/lib/python3.7/dist-packages (from -r requirements.txt (line 2)) (1.1.5)\n",
            "Requirement already satisfied: matplotlib==3.2.2 in /usr/local/lib/python3.7/dist-packages (from -r requirements.txt (line 3)) (3.2.2)\n",
            "Requirement already satisfied: numpy==1.19.5 in /usr/local/lib/python3.7/dist-packages (from -r requirements.txt (line 4)) (1.19.5)\n",
            "Requirement already satisfied: scipy>=0.17.0 in /usr/local/lib/python3.7/dist-packages (from scikit-learn==0.22.2.post1->-r requirements.txt (line 1)) (1.4.1)\n",
            "Requirement already satisfied: joblib>=0.11 in /usr/local/lib/python3.7/dist-packages (from scikit-learn==0.22.2.post1->-r requirements.txt (line 1)) (1.1.0)\n",
            "Requirement already satisfied: pytz>=2017.2 in /usr/local/lib/python3.7/dist-packages (from pandas==1.1.5->-r requirements.txt (line 2)) (2022.1)\n",
            "Requirement already satisfied: python-dateutil>=2.7.3 in /usr/local/lib/python3.7/dist-packages (from pandas==1.1.5->-r requirements.txt (line 2)) (2.8.2)\n",
            "Requirement already satisfied: kiwisolver>=1.0.1 in /usr/local/lib/python3.7/dist-packages (from matplotlib==3.2.2->-r requirements.txt (line 3)) (1.4.2)\n",
            "Requirement already satisfied: pyparsing!=2.0.4,!=2.1.2,!=2.1.6,>=2.0.1 in /usr/local/lib/python3.7/dist-packages (from matplotlib==3.2.2->-r requirements.txt (line 3)) (3.0.9)\n",
            "Requirement already satisfied: cycler>=0.10 in /usr/local/lib/python3.7/dist-packages (from matplotlib==3.2.2->-r requirements.txt (line 3)) (0.11.0)\n",
            "Requirement already satisfied: typing-extensions in /usr/local/lib/python3.7/dist-packages (from kiwisolver>=1.0.1->matplotlib==3.2.2->-r requirements.txt (line 3)) (4.2.0)\n",
            "Requirement already satisfied: six>=1.5 in /usr/local/lib/python3.7/dist-packages (from python-dateutil>=2.7.3->pandas==1.1.5->-r requirements.txt (line 2)) (1.15.0)\n"
          ]
        }
      ]
    },
    {
      "cell_type": "code",
      "source": [
        "#pip install scipy"
      ],
      "metadata": {
        "id": "w8TYIcvSB9XD"
      },
      "execution_count": null,
      "outputs": []
    },
    {
      "cell_type": "markdown",
      "metadata": {
        "id": "RmcjY5KeviKG"
      },
      "source": [
        "### Получение данных\n",
        "\n",
        "Будем работать с набором данных `breast_cancer` из `sklearn`."
      ]
    },
    {
      "cell_type": "code",
      "source": [
        "from sklearn.datasets import load_breast_cancer\n",
        "import pandas as pd\n",
        "\n",
        "\n",
        "data = load_breast_cancer()\n",
        "\n",
        "X = pd.DataFrame(data['data'], columns=data['feature_names'])\n",
        "y = data['target']\n",
        "\n",
        "X.head()"
      ],
      "metadata": {
        "colab": {
          "base_uri": "https://localhost:8080/",
          "height": 334
        },
        "id": "zAT1q9GrZjK_",
        "outputId": "50baa2f5-fa0d-44e3-932e-e0ee07ab2e6f"
      },
      "execution_count": null,
      "outputs": [
        {
          "output_type": "execute_result",
          "data": {
            "text/plain": [
              "   mean radius  mean texture  mean perimeter  mean area  mean smoothness  \\\n",
              "0      17.9900       10.3800        122.8000  1001.0000           0.1184   \n",
              "1      20.5700       17.7700        132.9000  1326.0000           0.0847   \n",
              "2      19.6900       21.2500        130.0000  1203.0000           0.1096   \n",
              "3      11.4200       20.3800         77.5800   386.1000           0.1425   \n",
              "4      20.2900       14.3400        135.1000  1297.0000           0.1003   \n",
              "\n",
              "   mean compactness  mean concavity  mean concave points  mean symmetry  \\\n",
              "0            0.2776          0.3001               0.1471         0.2419   \n",
              "1            0.0786          0.0869               0.0702         0.1812   \n",
              "2            0.1599          0.1974               0.1279         0.2069   \n",
              "3            0.2839          0.2414               0.1052         0.2597   \n",
              "4            0.1328          0.1980               0.1043         0.1809   \n",
              "\n",
              "   mean fractal dimension  ...  worst radius  worst texture  worst perimeter  \\\n",
              "0                  0.0787  ...       25.3800        17.3300         184.6000   \n",
              "1                  0.0567  ...       24.9900        23.4100         158.8000   \n",
              "2                  0.0600  ...       23.5700        25.5300         152.5000   \n",
              "3                  0.0974  ...       14.9100        26.5000          98.8700   \n",
              "4                  0.0588  ...       22.5400        16.6700         152.2000   \n",
              "\n",
              "   worst area  worst smoothness  worst compactness  worst concavity  \\\n",
              "0   2019.0000            0.1622             0.6656           0.7119   \n",
              "1   1956.0000            0.1238             0.1866           0.2416   \n",
              "2   1709.0000            0.1444             0.4245           0.4504   \n",
              "3    567.7000            0.2098             0.8663           0.6869   \n",
              "4   1575.0000            0.1374             0.2050           0.4000   \n",
              "\n",
              "   worst concave points  worst symmetry  worst fractal dimension  \n",
              "0                0.2654          0.4601                   0.1189  \n",
              "1                0.1860          0.2750                   0.0890  \n",
              "2                0.2430          0.3613                   0.0876  \n",
              "3                0.2575          0.6638                   0.1730  \n",
              "4                0.1625          0.2364                   0.0768  \n",
              "\n",
              "[5 rows x 30 columns]"
            ],
            "text/html": [
              "\n",
              "  <div id=\"df-5a011057-41ad-4bc8-b8ef-acca5277fee6\">\n",
              "    <div class=\"colab-df-container\">\n",
              "      <div>\n",
              "<style scoped>\n",
              "    .dataframe tbody tr th:only-of-type {\n",
              "        vertical-align: middle;\n",
              "    }\n",
              "\n",
              "    .dataframe tbody tr th {\n",
              "        vertical-align: top;\n",
              "    }\n",
              "\n",
              "    .dataframe thead th {\n",
              "        text-align: right;\n",
              "    }\n",
              "</style>\n",
              "<table border=\"1\" class=\"dataframe\">\n",
              "  <thead>\n",
              "    <tr style=\"text-align: right;\">\n",
              "      <th></th>\n",
              "      <th>mean radius</th>\n",
              "      <th>mean texture</th>\n",
              "      <th>mean perimeter</th>\n",
              "      <th>mean area</th>\n",
              "      <th>mean smoothness</th>\n",
              "      <th>mean compactness</th>\n",
              "      <th>mean concavity</th>\n",
              "      <th>mean concave points</th>\n",
              "      <th>mean symmetry</th>\n",
              "      <th>mean fractal dimension</th>\n",
              "      <th>...</th>\n",
              "      <th>worst radius</th>\n",
              "      <th>worst texture</th>\n",
              "      <th>worst perimeter</th>\n",
              "      <th>worst area</th>\n",
              "      <th>worst smoothness</th>\n",
              "      <th>worst compactness</th>\n",
              "      <th>worst concavity</th>\n",
              "      <th>worst concave points</th>\n",
              "      <th>worst symmetry</th>\n",
              "      <th>worst fractal dimension</th>\n",
              "    </tr>\n",
              "  </thead>\n",
              "  <tbody>\n",
              "    <tr>\n",
              "      <th>0</th>\n",
              "      <td>17.9900</td>\n",
              "      <td>10.3800</td>\n",
              "      <td>122.8000</td>\n",
              "      <td>1001.0000</td>\n",
              "      <td>0.1184</td>\n",
              "      <td>0.2776</td>\n",
              "      <td>0.3001</td>\n",
              "      <td>0.1471</td>\n",
              "      <td>0.2419</td>\n",
              "      <td>0.0787</td>\n",
              "      <td>...</td>\n",
              "      <td>25.3800</td>\n",
              "      <td>17.3300</td>\n",
              "      <td>184.6000</td>\n",
              "      <td>2019.0000</td>\n",
              "      <td>0.1622</td>\n",
              "      <td>0.6656</td>\n",
              "      <td>0.7119</td>\n",
              "      <td>0.2654</td>\n",
              "      <td>0.4601</td>\n",
              "      <td>0.1189</td>\n",
              "    </tr>\n",
              "    <tr>\n",
              "      <th>1</th>\n",
              "      <td>20.5700</td>\n",
              "      <td>17.7700</td>\n",
              "      <td>132.9000</td>\n",
              "      <td>1326.0000</td>\n",
              "      <td>0.0847</td>\n",
              "      <td>0.0786</td>\n",
              "      <td>0.0869</td>\n",
              "      <td>0.0702</td>\n",
              "      <td>0.1812</td>\n",
              "      <td>0.0567</td>\n",
              "      <td>...</td>\n",
              "      <td>24.9900</td>\n",
              "      <td>23.4100</td>\n",
              "      <td>158.8000</td>\n",
              "      <td>1956.0000</td>\n",
              "      <td>0.1238</td>\n",
              "      <td>0.1866</td>\n",
              "      <td>0.2416</td>\n",
              "      <td>0.1860</td>\n",
              "      <td>0.2750</td>\n",
              "      <td>0.0890</td>\n",
              "    </tr>\n",
              "    <tr>\n",
              "      <th>2</th>\n",
              "      <td>19.6900</td>\n",
              "      <td>21.2500</td>\n",
              "      <td>130.0000</td>\n",
              "      <td>1203.0000</td>\n",
              "      <td>0.1096</td>\n",
              "      <td>0.1599</td>\n",
              "      <td>0.1974</td>\n",
              "      <td>0.1279</td>\n",
              "      <td>0.2069</td>\n",
              "      <td>0.0600</td>\n",
              "      <td>...</td>\n",
              "      <td>23.5700</td>\n",
              "      <td>25.5300</td>\n",
              "      <td>152.5000</td>\n",
              "      <td>1709.0000</td>\n",
              "      <td>0.1444</td>\n",
              "      <td>0.4245</td>\n",
              "      <td>0.4504</td>\n",
              "      <td>0.2430</td>\n",
              "      <td>0.3613</td>\n",
              "      <td>0.0876</td>\n",
              "    </tr>\n",
              "    <tr>\n",
              "      <th>3</th>\n",
              "      <td>11.4200</td>\n",
              "      <td>20.3800</td>\n",
              "      <td>77.5800</td>\n",
              "      <td>386.1000</td>\n",
              "      <td>0.1425</td>\n",
              "      <td>0.2839</td>\n",
              "      <td>0.2414</td>\n",
              "      <td>0.1052</td>\n",
              "      <td>0.2597</td>\n",
              "      <td>0.0974</td>\n",
              "      <td>...</td>\n",
              "      <td>14.9100</td>\n",
              "      <td>26.5000</td>\n",
              "      <td>98.8700</td>\n",
              "      <td>567.7000</td>\n",
              "      <td>0.2098</td>\n",
              "      <td>0.8663</td>\n",
              "      <td>0.6869</td>\n",
              "      <td>0.2575</td>\n",
              "      <td>0.6638</td>\n",
              "      <td>0.1730</td>\n",
              "    </tr>\n",
              "    <tr>\n",
              "      <th>4</th>\n",
              "      <td>20.2900</td>\n",
              "      <td>14.3400</td>\n",
              "      <td>135.1000</td>\n",
              "      <td>1297.0000</td>\n",
              "      <td>0.1003</td>\n",
              "      <td>0.1328</td>\n",
              "      <td>0.1980</td>\n",
              "      <td>0.1043</td>\n",
              "      <td>0.1809</td>\n",
              "      <td>0.0588</td>\n",
              "      <td>...</td>\n",
              "      <td>22.5400</td>\n",
              "      <td>16.6700</td>\n",
              "      <td>152.2000</td>\n",
              "      <td>1575.0000</td>\n",
              "      <td>0.1374</td>\n",
              "      <td>0.2050</td>\n",
              "      <td>0.4000</td>\n",
              "      <td>0.1625</td>\n",
              "      <td>0.2364</td>\n",
              "      <td>0.0768</td>\n",
              "    </tr>\n",
              "  </tbody>\n",
              "</table>\n",
              "<p>5 rows × 30 columns</p>\n",
              "</div>\n",
              "      <button class=\"colab-df-convert\" onclick=\"convertToInteractive('df-5a011057-41ad-4bc8-b8ef-acca5277fee6')\"\n",
              "              title=\"Convert this dataframe to an interactive table.\"\n",
              "              style=\"display:none;\">\n",
              "        \n",
              "  <svg xmlns=\"http://www.w3.org/2000/svg\" height=\"24px\"viewBox=\"0 0 24 24\"\n",
              "       width=\"24px\">\n",
              "    <path d=\"M0 0h24v24H0V0z\" fill=\"none\"/>\n",
              "    <path d=\"M18.56 5.44l.94 2.06.94-2.06 2.06-.94-2.06-.94-.94-2.06-.94 2.06-2.06.94zm-11 1L8.5 8.5l.94-2.06 2.06-.94-2.06-.94L8.5 2.5l-.94 2.06-2.06.94zm10 10l.94 2.06.94-2.06 2.06-.94-2.06-.94-.94-2.06-.94 2.06-2.06.94z\"/><path d=\"M17.41 7.96l-1.37-1.37c-.4-.4-.92-.59-1.43-.59-.52 0-1.04.2-1.43.59L10.3 9.45l-7.72 7.72c-.78.78-.78 2.05 0 2.83L4 21.41c.39.39.9.59 1.41.59.51 0 1.02-.2 1.41-.59l7.78-7.78 2.81-2.81c.8-.78.8-2.07 0-2.86zM5.41 20L4 18.59l7.72-7.72 1.47 1.35L5.41 20z\"/>\n",
              "  </svg>\n",
              "      </button>\n",
              "      \n",
              "  <style>\n",
              "    .colab-df-container {\n",
              "      display:flex;\n",
              "      flex-wrap:wrap;\n",
              "      gap: 12px;\n",
              "    }\n",
              "\n",
              "    .colab-df-convert {\n",
              "      background-color: #E8F0FE;\n",
              "      border: none;\n",
              "      border-radius: 50%;\n",
              "      cursor: pointer;\n",
              "      display: none;\n",
              "      fill: #1967D2;\n",
              "      height: 32px;\n",
              "      padding: 0 0 0 0;\n",
              "      width: 32px;\n",
              "    }\n",
              "\n",
              "    .colab-df-convert:hover {\n",
              "      background-color: #E2EBFA;\n",
              "      box-shadow: 0px 1px 2px rgba(60, 64, 67, 0.3), 0px 1px 3px 1px rgba(60, 64, 67, 0.15);\n",
              "      fill: #174EA6;\n",
              "    }\n",
              "\n",
              "    [theme=dark] .colab-df-convert {\n",
              "      background-color: #3B4455;\n",
              "      fill: #D2E3FC;\n",
              "    }\n",
              "\n",
              "    [theme=dark] .colab-df-convert:hover {\n",
              "      background-color: #434B5C;\n",
              "      box-shadow: 0px 1px 3px 1px rgba(0, 0, 0, 0.15);\n",
              "      filter: drop-shadow(0px 1px 2px rgba(0, 0, 0, 0.3));\n",
              "      fill: #FFFFFF;\n",
              "    }\n",
              "  </style>\n",
              "\n",
              "      <script>\n",
              "        const buttonEl =\n",
              "          document.querySelector('#df-5a011057-41ad-4bc8-b8ef-acca5277fee6 button.colab-df-convert');\n",
              "        buttonEl.style.display =\n",
              "          google.colab.kernel.accessAllowed ? 'block' : 'none';\n",
              "\n",
              "        async function convertToInteractive(key) {\n",
              "          const element = document.querySelector('#df-5a011057-41ad-4bc8-b8ef-acca5277fee6');\n",
              "          const dataTable =\n",
              "            await google.colab.kernel.invokeFunction('convertToInteractive',\n",
              "                                                     [key], {});\n",
              "          if (!dataTable) return;\n",
              "\n",
              "          const docLinkHtml = 'Like what you see? Visit the ' +\n",
              "            '<a target=\"_blank\" href=https://colab.research.google.com/notebooks/data_table.ipynb>data table notebook</a>'\n",
              "            + ' to learn more about interactive tables.';\n",
              "          element.innerHTML = '';\n",
              "          dataTable['output_type'] = 'display_data';\n",
              "          await google.colab.output.renderOutput(dataTable, element);\n",
              "          const docLink = document.createElement('div');\n",
              "          docLink.innerHTML = docLinkHtml;\n",
              "          element.appendChild(docLink);\n",
              "        }\n",
              "      </script>\n",
              "    </div>\n",
              "  </div>\n",
              "  "
            ]
          },
          "metadata": {},
          "execution_count": 117
        }
      ]
    },
    {
      "cell_type": "code",
      "source": [
        "y"
      ],
      "metadata": {
        "colab": {
          "base_uri": "https://localhost:8080/"
        },
        "id": "hA67RxK9Tldf",
        "outputId": "9dedec5a-fe75-4152-cde0-2e7cbee60f9f"
      },
      "execution_count": null,
      "outputs": [
        {
          "output_type": "execute_result",
          "data": {
            "text/plain": [
              "array([0, 0, 0, 0, 0, 0, 0, 0, 0, 0, 0, 0, 0, 0, 0, 0, 0, 0, 0, 1, 1, 1,\n",
              "       0, 0, 0, 0, 0, 0, 0, 0, 0, 0, 0, 0, 0, 0, 0, 1, 0, 0, 0, 0, 0, 0,\n",
              "       0, 0, 1, 0, 1, 1, 1, 1, 1, 0, 0, 1, 0, 0, 1, 1, 1, 1, 0, 1, 0, 0,\n",
              "       1, 1, 1, 1, 0, 1, 0, 0, 1, 0, 1, 0, 0, 1, 1, 1, 0, 0, 1, 0, 0, 0,\n",
              "       1, 1, 1, 0, 1, 1, 0, 0, 1, 1, 1, 0, 0, 1, 1, 1, 1, 0, 1, 1, 0, 1,\n",
              "       1, 1, 1, 1, 1, 1, 1, 0, 0, 0, 1, 0, 0, 1, 1, 1, 0, 0, 1, 0, 1, 0,\n",
              "       0, 1, 0, 0, 1, 1, 0, 1, 1, 0, 1, 1, 1, 1, 0, 1, 1, 1, 1, 1, 1, 1,\n",
              "       1, 1, 0, 1, 1, 1, 1, 0, 0, 1, 0, 1, 1, 0, 0, 1, 1, 0, 0, 1, 1, 1,\n",
              "       1, 0, 1, 1, 0, 0, 0, 1, 0, 1, 0, 1, 1, 1, 0, 1, 1, 0, 0, 1, 0, 0,\n",
              "       0, 0, 1, 0, 0, 0, 1, 0, 1, 0, 1, 1, 0, 1, 0, 0, 0, 0, 1, 1, 0, 0,\n",
              "       1, 1, 1, 0, 1, 1, 1, 1, 1, 0, 0, 1, 1, 0, 1, 1, 0, 0, 1, 0, 1, 1,\n",
              "       1, 1, 0, 1, 1, 1, 1, 1, 0, 1, 0, 0, 0, 0, 0, 0, 0, 0, 0, 0, 0, 0,\n",
              "       0, 0, 1, 1, 1, 1, 1, 1, 0, 1, 0, 1, 1, 0, 1, 1, 0, 1, 0, 0, 1, 1,\n",
              "       1, 1, 1, 1, 1, 1, 1, 1, 1, 1, 1, 0, 1, 1, 0, 1, 0, 1, 1, 1, 1, 1,\n",
              "       1, 1, 1, 1, 1, 1, 1, 1, 1, 0, 1, 1, 1, 0, 1, 0, 1, 1, 1, 1, 0, 0,\n",
              "       0, 1, 1, 1, 1, 0, 1, 0, 1, 0, 1, 1, 1, 0, 1, 1, 1, 1, 1, 1, 1, 0,\n",
              "       0, 0, 1, 1, 1, 1, 1, 1, 1, 1, 1, 1, 1, 0, 0, 1, 0, 0, 0, 1, 0, 0,\n",
              "       1, 1, 1, 1, 1, 0, 1, 1, 1, 1, 1, 0, 1, 1, 1, 0, 1, 1, 0, 0, 1, 1,\n",
              "       1, 1, 1, 1, 0, 1, 1, 1, 1, 1, 1, 1, 0, 1, 1, 1, 1, 1, 0, 1, 1, 0,\n",
              "       1, 1, 1, 1, 1, 1, 1, 1, 1, 1, 1, 1, 0, 1, 0, 0, 1, 0, 1, 1, 1, 1,\n",
              "       1, 0, 1, 1, 0, 1, 0, 1, 1, 0, 1, 0, 1, 1, 1, 1, 1, 1, 1, 1, 0, 0,\n",
              "       1, 1, 1, 1, 1, 1, 0, 1, 1, 1, 1, 1, 1, 1, 1, 1, 1, 0, 1, 1, 1, 1,\n",
              "       1, 1, 1, 0, 1, 0, 1, 1, 0, 1, 1, 1, 1, 1, 0, 0, 1, 0, 1, 0, 1, 1,\n",
              "       1, 1, 1, 0, 1, 1, 0, 1, 0, 1, 0, 0, 1, 1, 1, 0, 1, 1, 1, 1, 1, 1,\n",
              "       1, 1, 1, 1, 1, 0, 1, 0, 0, 1, 1, 1, 1, 1, 1, 1, 1, 1, 1, 1, 1, 1,\n",
              "       1, 1, 1, 1, 1, 1, 1, 1, 1, 1, 1, 1, 0, 0, 0, 0, 0, 0, 1])"
            ]
          },
          "metadata": {},
          "execution_count": 118
        }
      ]
    },
    {
      "cell_type": "markdown",
      "source": [
        "## KNN"
      ],
      "metadata": {
        "id": "b_yh1psvXHa4"
      }
    },
    {
      "cell_type": "markdown",
      "source": [
        "### 1. До масштабирования"
      ],
      "metadata": {
        "id": "xOH9vcIRjQCD"
      }
    },
    {
      "cell_type": "markdown",
      "source": [
        "#### 1.1. Разбейте данные на обучение и тест"
      ],
      "metadata": {
        "id": "QemJi8jZaCBK"
      }
    },
    {
      "cell_type": "code",
      "source": [
        "# Ваш код здесь\n",
        "from sklearn.model_selection import train_test_split\n",
        "X_train,X_test,y_train,y_test=train_test_split(X,y,random_state=10,test_size=0.2)\n",
        "X_train.shape,X_test.shape\n"
      ],
      "metadata": {
        "id": "om8oxSnUa6RI",
        "colab": {
          "base_uri": "https://localhost:8080/"
        },
        "outputId": "f074a5b7-3a72-4b21-d7fc-e094683b308c"
      },
      "execution_count": null,
      "outputs": [
        {
          "output_type": "execute_result",
          "data": {
            "text/plain": [
              "((455, 30), (114, 30))"
            ]
          },
          "metadata": {},
          "execution_count": 119
        }
      ]
    },
    {
      "cell_type": "markdown",
      "source": [
        "#### 1.2. Обучите модель KNN"
      ],
      "metadata": {
        "id": "ydb1Ob1YaHrg"
      }
    },
    {
      "cell_type": "code",
      "source": [
        "#!pip uninstall scikit-learn -y\n",
        "\n",
        "#!pip install -U scikit-learn"
      ],
      "metadata": {
        "id": "ayq3S8kyDgK6"
      },
      "execution_count": null,
      "outputs": []
    },
    {
      "cell_type": "code",
      "source": [
        "# Ваш код здес\n",
        "from sklearn.neighbors import KNeighborsClassifier\n",
        "knn=KNeighborsClassifier()\n",
        "knn.fit(X_train,y_train)\n",
        "\n"
      ],
      "metadata": {
        "id": "QJTeNUY-bJLr",
        "colab": {
          "base_uri": "https://localhost:8080/"
        },
        "outputId": "4d19cb6d-59e0-4d56-86db-7d0ffe2a256a"
      },
      "execution_count": null,
      "outputs": [
        {
          "output_type": "execute_result",
          "data": {
            "text/plain": [
              "KNeighborsClassifier(algorithm='auto', leaf_size=30, metric='minkowski',\n",
              "                     metric_params=None, n_jobs=None, n_neighbors=5, p=2,\n",
              "                     weights='uniform')"
            ]
          },
          "metadata": {},
          "execution_count": 121
        }
      ]
    },
    {
      "cell_type": "markdown",
      "source": [
        "#### 1.3. Проверьте качество работы модели\n",
        "\n",
        "По метрикам можете повторить эти занятия по [ссылке](https://youtube.com/playlist?list=PLkJJmZ1EJno6CLyvD4DHc32Fed6cPBHje)"
      ],
      "metadata": {
        "id": "PYE6TJB9aLc1"
      }
    },
    {
      "cell_type": "code",
      "source": [
        "# Ваш код здесь\n",
        "from sklearn.metrics import accuracy_score\n",
        "\n",
        "pred_train = knn.predict(X_train)\n",
        "pred_test = knn.predict(X_test)\n",
        "\n",
        "print(f'Train acc {accuracy_score(y_train, pred_train)}')\n",
        "print(f'Test acc {accuracy_score(y_test, pred_test)}')\n"
      ],
      "metadata": {
        "id": "vl-hj0XlbZCa",
        "colab": {
          "base_uri": "https://localhost:8080/"
        },
        "outputId": "d6bf7072-7251-419b-9e1e-c429660e0fc4"
      },
      "execution_count": null,
      "outputs": [
        {
          "output_type": "stream",
          "name": "stdout",
          "text": [
            "Train acc 0.9494505494505494\n",
            "Test acc 0.9210526315789473\n"
          ]
        }
      ]
    },
    {
      "cell_type": "markdown",
      "source": [
        "### 2. Масштабирование\n"
      ],
      "metadata": {
        "id": "fCF__dT-absO"
      }
    },
    {
      "cell_type": "markdown",
      "source": [
        "#### 2.1. Возьмите наиболее подходящий метод масштабирования из sklearn"
      ],
      "metadata": {
        "id": "Olg8V-N-fvOK"
      }
    },
    {
      "cell_type": "code",
      "source": [
        "# Ваш код здесь\n",
        "from sklearn.preprocessing import MinMaxScaler\n",
        "mms=MinMaxScaler()\n"
      ],
      "metadata": {
        "id": "pyaWNp1PlsQN"
      },
      "execution_count": null,
      "outputs": []
    },
    {
      "cell_type": "markdown",
      "source": [
        "##### 2.1.1. Обучите модель масштабирования"
      ],
      "metadata": {
        "id": "8nYWaApFUuQX"
      }
    },
    {
      "cell_type": "code",
      "source": [
        "# Ваш код здесь\n",
        "mms.fit(X_train)"
      ],
      "metadata": {
        "id": "ERnHFdEqf6zD",
        "colab": {
          "base_uri": "https://localhost:8080/"
        },
        "outputId": "8beae3b8-8b8d-4723-8414-67cea10b2f2c"
      },
      "execution_count": null,
      "outputs": [
        {
          "output_type": "execute_result",
          "data": {
            "text/plain": [
              "MinMaxScaler(copy=True, feature_range=(0, 1))"
            ]
          },
          "metadata": {},
          "execution_count": 124
        }
      ]
    },
    {
      "cell_type": "markdown",
      "source": [
        "##### 2.1.2. Посмотрите, какие получились вспомогательные значения для этого подхода масштабирования"
      ],
      "metadata": {
        "id": "CzxXBdEuUzMp"
      }
    },
    {
      "cell_type": "code",
      "source": [
        "import numpy as np\n",
        "np.set_printoptions(suppress=True)"
      ],
      "metadata": {
        "id": "1ESkc0_gh-Y3"
      },
      "execution_count": null,
      "outputs": []
    },
    {
      "cell_type": "code",
      "source": [
        "# Ваш код здесь\n",
        "mms.data_min_"
      ],
      "metadata": {
        "id": "32S1LMssVHvq",
        "colab": {
          "base_uri": "https://localhost:8080/"
        },
        "outputId": "4cadf05c-f690-4747-9556-b05aeb2a63b3"
      },
      "execution_count": null,
      "outputs": [
        {
          "output_type": "execute_result",
          "data": {
            "text/plain": [
              "array([  6.981    ,  10.38     ,  43.79     , 143.5      ,   0.05263  ,\n",
              "         0.01938  ,   0.       ,   0.       ,   0.106    ,   0.04996  ,\n",
              "         0.1115   ,   0.3602   ,   0.757    ,   7.228    ,   0.002667 ,\n",
              "         0.002252 ,   0.       ,   0.       ,   0.007882 ,   0.0008948,\n",
              "         7.93     ,  12.49     ,  50.41     , 185.2      ,   0.08125  ,\n",
              "         0.03432  ,   0.       ,   0.       ,   0.1565   ,   0.05504  ])"
            ]
          },
          "metadata": {},
          "execution_count": 126
        }
      ]
    },
    {
      "cell_type": "code",
      "source": [
        "# Ваш код здесь\n",
        "mms.data_max_\n"
      ],
      "metadata": {
        "id": "gBokYKrNVJ0M",
        "colab": {
          "base_uri": "https://localhost:8080/"
        },
        "outputId": "c0fd8e20-be6c-407e-8f41-2e26058c96e1"
      },
      "execution_count": null,
      "outputs": [
        {
          "output_type": "execute_result",
          "data": {
            "text/plain": [
              "array([  28.11   ,   39.28   ,  188.5    , 2501.     ,    0.1634 ,\n",
              "          0.3114 ,    0.4268 ,    0.2012 ,    0.304  ,    0.09744,\n",
              "          2.873  ,    3.896  ,   21.98   ,  542.2    ,    0.03113,\n",
              "          0.1064 ,    0.1535 ,    0.0409 ,    0.06146,    0.02286,\n",
              "         36.04   ,   49.54   ,  251.2    , 4254.     ,    0.2226 ,\n",
              "          1.058  ,    1.17   ,    0.291  ,    0.6638 ,    0.2075 ])"
            ]
          },
          "metadata": {},
          "execution_count": 127
        }
      ]
    },
    {
      "cell_type": "markdown",
      "source": [
        "##### 2.1.3. Убедитесь, что значения такие же через подсчет статистик\n",
        "\n",
        "1. Возьмите первый признак\n",
        "2. Подсчитайте статистики, которые использовались в выбранном методе масштабирования\n",
        "3. Сравните статистики"
      ],
      "metadata": {
        "id": "ChqWcdHNU29V"
      }
    },
    {
      "cell_type": "code",
      "source": [
        "# Ваш код здесь\n",
        "X_train.min()\n",
        "X_train.max()\n"
      ],
      "metadata": {
        "id": "LR8f-8sxVzCa",
        "colab": {
          "base_uri": "https://localhost:8080/"
        },
        "outputId": "a9fff973-622f-418c-ff2e-751227cdcc9c"
      },
      "execution_count": null,
      "outputs": [
        {
          "output_type": "execute_result",
          "data": {
            "text/plain": [
              "mean radius                 28.1100\n",
              "mean texture                39.2800\n",
              "mean perimeter             188.5000\n",
              "mean area                 2501.0000\n",
              "mean smoothness              0.1634\n",
              "mean compactness             0.3114\n",
              "mean concavity               0.4268\n",
              "mean concave points          0.2012\n",
              "mean symmetry                0.3040\n",
              "mean fractal dimension       0.0974\n",
              "radius error                 2.8730\n",
              "texture error                3.8960\n",
              "perimeter error             21.9800\n",
              "area error                 542.2000\n",
              "smoothness error             0.0311\n",
              "compactness error            0.1064\n",
              "concavity error              0.1535\n",
              "concave points error         0.0409\n",
              "symmetry error               0.0615\n",
              "fractal dimension error      0.0229\n",
              "worst radius                36.0400\n",
              "worst texture               49.5400\n",
              "worst perimeter            251.2000\n",
              "worst area                4254.0000\n",
              "worst smoothness             0.2226\n",
              "worst compactness            1.0580\n",
              "worst concavity              1.1700\n",
              "worst concave points         0.2910\n",
              "worst symmetry               0.6638\n",
              "worst fractal dimension      0.2075\n",
              "dtype: float64"
            ]
          },
          "metadata": {},
          "execution_count": 128
        }
      ]
    },
    {
      "cell_type": "markdown",
      "source": [
        "Да, значения минимума и максимума совпадают."
      ],
      "metadata": {
        "id": "xslaBMCQWBzT"
      }
    },
    {
      "cell_type": "markdown",
      "source": [
        "#### 2.2. Преобразуйте обучающие данные с помощью модели масштабирования"
      ],
      "metadata": {
        "id": "X038F1MQVZok"
      }
    },
    {
      "cell_type": "code",
      "source": [
        "# Ваш код здесь\n",
        "X_train_scaled=mms.transform(X_train)\n",
        "X_train_scaled"
      ],
      "metadata": {
        "id": "1n9-NQ1xVYM-",
        "colab": {
          "base_uri": "https://localhost:8080/"
        },
        "outputId": "91cc9e5a-32db-45cc-c3b5-5016c85a9b33"
      },
      "execution_count": null,
      "outputs": [
        {
          "output_type": "execute_result",
          "data": {
            "text/plain": [
              "array([[0.64456434, 0.65570934, 0.66553797, ..., 0.91065292, 0.49714173,\n",
              "        0.45231536],\n",
              "       [0.32131194, 0.1       , 0.30592219, ..., 0.19938144, 0.2479795 ,\n",
              "        0.08461236],\n",
              "       [0.39703725, 0.4283737 , 0.38981411, ..., 0.50721649, 0.19534792,\n",
              "        0.08684245],\n",
              "       ...,\n",
              "       [0.25363245, 0.06539792, 0.24289959, ..., 0.36769759, 0.30455352,\n",
              "        0.13695396],\n",
              "       [0.32509821, 0.23633218, 0.30854813, ..., 0.17539519, 0.15750049,\n",
              "        0.11006166],\n",
              "       [0.65071702, 0.71764706, 0.63513233, ..., 0.57010309, 0.25684999,\n",
              "        0.17801391]])"
            ]
          },
          "metadata": {},
          "execution_count": 129
        }
      ]
    },
    {
      "cell_type": "markdown",
      "source": [
        "#### 2.3. Преобразуйте тестовые данные с помощью модели масштабирования"
      ],
      "metadata": {
        "id": "SOUxgMKJhet8"
      }
    },
    {
      "cell_type": "code",
      "source": [
        "# Ваш код здесь\n",
        "X_test_scaled=mms.transform(X_test)\n",
        "X_test_scaled\n"
      ],
      "metadata": {
        "id": "PutdfPZYWJ-P",
        "colab": {
          "base_uri": "https://localhost:8080/"
        },
        "outputId": "6ee0a5d2-8ac1-44a8-a9a5-146fca6c3c6b"
      },
      "execution_count": null,
      "outputs": [
        {
          "output_type": "execute_result",
          "data": {
            "text/plain": [
              "array([[0.4012968 , 0.05224913, 0.40570797, ..., 0.62783505, 0.32544845,\n",
              "        0.30145612],\n",
              "       [0.1113162 , 0.4       , 0.10517587, ..., 0.08810997, 0.17149616,\n",
              "        0.12390135],\n",
              "       [0.31752568, 0.19688581, 0.30440191, ..., 0.24010309, 0.34654051,\n",
              "        0.14410337],\n",
              "       ...,\n",
              "       [0.22807516, 0.23806228, 0.21746942, ..., 0.18405498, 0.23930613,\n",
              "        0.17165158],\n",
              "       [0.63225898, 0.38512111, 0.63651441, ..., 0.92268041, 0.78710822,\n",
              "        0.31063886],\n",
              "       [0.48790762, 0.40657439, 0.4879414 , ..., 0.52508591, 0.29607727,\n",
              "        0.12987013]])"
            ]
          },
          "metadata": {},
          "execution_count": 130
        }
      ]
    },
    {
      "cell_type": "markdown",
      "source": [
        "#### 2.4. Обучите еще раз модель KNN на масштабированных данных"
      ],
      "metadata": {
        "id": "ZWEAPcdLh9u0"
      }
    },
    {
      "cell_type": "code",
      "source": [
        "# Ваш код здесь\n",
        "knn.fit(X_train_scaled,y_train)\n",
        "\n"
      ],
      "metadata": {
        "id": "ZGdAVK2bWvdD",
        "colab": {
          "base_uri": "https://localhost:8080/"
        },
        "outputId": "0335fe94-2fe7-432a-9683-7fc9607222b6"
      },
      "execution_count": null,
      "outputs": [
        {
          "output_type": "execute_result",
          "data": {
            "text/plain": [
              "KNeighborsClassifier(algorithm='auto', leaf_size=30, metric='minkowski',\n",
              "                     metric_params=None, n_jobs=None, n_neighbors=5, p=2,\n",
              "                     weights='uniform')"
            ]
          },
          "metadata": {},
          "execution_count": 131
        }
      ]
    },
    {
      "cell_type": "markdown",
      "source": [
        "#### 2.5. Проверьте качество работы модели\n",
        "\n",
        "По метрикам можете повторить эти занятия по [ссылке](https://youtube.com/playlist?list=PLkJJmZ1EJno6CLyvD4DHc32Fed6cPBHje)"
      ],
      "metadata": {
        "id": "AI33yn1SWvdI"
      }
    },
    {
      "cell_type": "code",
      "source": [
        "# Ваш код здесь\n",
        "pred_train = knn.predict(X_train_scaled)\n",
        "pred_test = knn.predict(X_test_scaled)\n",
        "\n",
        "print(f'Train acc {accuracy_score(y_train, pred_train)}')\n",
        "print(f'Test acc {accuracy_score(y_test, pred_test)}')\n",
        "\n"
      ],
      "metadata": {
        "id": "g2zYrp_3WvdJ",
        "colab": {
          "base_uri": "https://localhost:8080/"
        },
        "outputId": "0f9fa56a-4631-4363-c1d6-d97bcca55f01"
      },
      "execution_count": null,
      "outputs": [
        {
          "output_type": "stream",
          "name": "stdout",
          "text": [
            "Train acc 0.9736263736263736\n",
            "Test acc 0.9824561403508771\n"
          ]
        }
      ]
    },
    {
      "cell_type": "markdown",
      "source": [
        "#### 2.6. Сделайте выводы"
      ],
      "metadata": {
        "id": "HftfF2a7W-cD"
      }
    },
    {
      "cell_type": "code",
      "source": [
        "# Ваши выводы здесь\n"
      ],
      "metadata": {
        "id": "J31peCjlXBEw"
      },
      "execution_count": null,
      "outputs": []
    },
    {
      "cell_type": "markdown",
      "source": [
        "## Дерево решений"
      ],
      "metadata": {
        "id": "jGNSaff2XN9Y"
      }
    },
    {
      "cell_type": "markdown",
      "metadata": {
        "id": "unYVCkjgXc-9"
      },
      "source": [
        "### Получение данных\n",
        "\n",
        "Будем работать с набором данных `california_housing` из `sklearn`."
      ]
    },
    {
      "cell_type": "code",
      "source": [
        "from sklearn.datasets import fetch_california_housing\n",
        "import pandas as pd\n",
        "\n",
        "\n",
        "data = fetch_california_housing()\n",
        "\n",
        "X = pd.DataFrame(data['data'], columns=data['feature_names'])\n",
        "y = data['target']\n",
        "\n",
        "X.head()"
      ],
      "metadata": {
        "colab": {
          "base_uri": "https://localhost:8080/",
          "height": 250
        },
        "outputId": "039a1a73-393c-4c08-de87-6d213ee23f01",
        "id": "MXCfBZkvXc_J"
      },
      "execution_count": null,
      "outputs": [
        {
          "output_type": "execute_result",
          "data": {
            "text/plain": [
              "   MedInc  HouseAge  AveRooms  AveBedrms  Population  AveOccup  Latitude  \\\n",
              "0  8.3252   41.0000    6.9841     1.0238    322.0000    2.5556   37.8800   \n",
              "1  8.3014   21.0000    6.2381     0.9719   2401.0000    2.1098   37.8600   \n",
              "2  7.2574   52.0000    8.2881     1.0734    496.0000    2.8023   37.8500   \n",
              "3  5.6431   52.0000    5.8174     1.0731    558.0000    2.5479   37.8500   \n",
              "4  3.8462   52.0000    6.2819     1.0811    565.0000    2.1815   37.8500   \n",
              "\n",
              "   Longitude  \n",
              "0  -122.2300  \n",
              "1  -122.2200  \n",
              "2  -122.2400  \n",
              "3  -122.2500  \n",
              "4  -122.2500  "
            ],
            "text/html": [
              "\n",
              "  <div id=\"df-1274c18d-c80e-401b-a8e1-a65e57a18892\">\n",
              "    <div class=\"colab-df-container\">\n",
              "      <div>\n",
              "<style scoped>\n",
              "    .dataframe tbody tr th:only-of-type {\n",
              "        vertical-align: middle;\n",
              "    }\n",
              "\n",
              "    .dataframe tbody tr th {\n",
              "        vertical-align: top;\n",
              "    }\n",
              "\n",
              "    .dataframe thead th {\n",
              "        text-align: right;\n",
              "    }\n",
              "</style>\n",
              "<table border=\"1\" class=\"dataframe\">\n",
              "  <thead>\n",
              "    <tr style=\"text-align: right;\">\n",
              "      <th></th>\n",
              "      <th>MedInc</th>\n",
              "      <th>HouseAge</th>\n",
              "      <th>AveRooms</th>\n",
              "      <th>AveBedrms</th>\n",
              "      <th>Population</th>\n",
              "      <th>AveOccup</th>\n",
              "      <th>Latitude</th>\n",
              "      <th>Longitude</th>\n",
              "    </tr>\n",
              "  </thead>\n",
              "  <tbody>\n",
              "    <tr>\n",
              "      <th>0</th>\n",
              "      <td>8.3252</td>\n",
              "      <td>41.0000</td>\n",
              "      <td>6.9841</td>\n",
              "      <td>1.0238</td>\n",
              "      <td>322.0000</td>\n",
              "      <td>2.5556</td>\n",
              "      <td>37.8800</td>\n",
              "      <td>-122.2300</td>\n",
              "    </tr>\n",
              "    <tr>\n",
              "      <th>1</th>\n",
              "      <td>8.3014</td>\n",
              "      <td>21.0000</td>\n",
              "      <td>6.2381</td>\n",
              "      <td>0.9719</td>\n",
              "      <td>2401.0000</td>\n",
              "      <td>2.1098</td>\n",
              "      <td>37.8600</td>\n",
              "      <td>-122.2200</td>\n",
              "    </tr>\n",
              "    <tr>\n",
              "      <th>2</th>\n",
              "      <td>7.2574</td>\n",
              "      <td>52.0000</td>\n",
              "      <td>8.2881</td>\n",
              "      <td>1.0734</td>\n",
              "      <td>496.0000</td>\n",
              "      <td>2.8023</td>\n",
              "      <td>37.8500</td>\n",
              "      <td>-122.2400</td>\n",
              "    </tr>\n",
              "    <tr>\n",
              "      <th>3</th>\n",
              "      <td>5.6431</td>\n",
              "      <td>52.0000</td>\n",
              "      <td>5.8174</td>\n",
              "      <td>1.0731</td>\n",
              "      <td>558.0000</td>\n",
              "      <td>2.5479</td>\n",
              "      <td>37.8500</td>\n",
              "      <td>-122.2500</td>\n",
              "    </tr>\n",
              "    <tr>\n",
              "      <th>4</th>\n",
              "      <td>3.8462</td>\n",
              "      <td>52.0000</td>\n",
              "      <td>6.2819</td>\n",
              "      <td>1.0811</td>\n",
              "      <td>565.0000</td>\n",
              "      <td>2.1815</td>\n",
              "      <td>37.8500</td>\n",
              "      <td>-122.2500</td>\n",
              "    </tr>\n",
              "  </tbody>\n",
              "</table>\n",
              "</div>\n",
              "      <button class=\"colab-df-convert\" onclick=\"convertToInteractive('df-1274c18d-c80e-401b-a8e1-a65e57a18892')\"\n",
              "              title=\"Convert this dataframe to an interactive table.\"\n",
              "              style=\"display:none;\">\n",
              "        \n",
              "  <svg xmlns=\"http://www.w3.org/2000/svg\" height=\"24px\"viewBox=\"0 0 24 24\"\n",
              "       width=\"24px\">\n",
              "    <path d=\"M0 0h24v24H0V0z\" fill=\"none\"/>\n",
              "    <path d=\"M18.56 5.44l.94 2.06.94-2.06 2.06-.94-2.06-.94-.94-2.06-.94 2.06-2.06.94zm-11 1L8.5 8.5l.94-2.06 2.06-.94-2.06-.94L8.5 2.5l-.94 2.06-2.06.94zm10 10l.94 2.06.94-2.06 2.06-.94-2.06-.94-.94-2.06-.94 2.06-2.06.94z\"/><path d=\"M17.41 7.96l-1.37-1.37c-.4-.4-.92-.59-1.43-.59-.52 0-1.04.2-1.43.59L10.3 9.45l-7.72 7.72c-.78.78-.78 2.05 0 2.83L4 21.41c.39.39.9.59 1.41.59.51 0 1.02-.2 1.41-.59l7.78-7.78 2.81-2.81c.8-.78.8-2.07 0-2.86zM5.41 20L4 18.59l7.72-7.72 1.47 1.35L5.41 20z\"/>\n",
              "  </svg>\n",
              "      </button>\n",
              "      \n",
              "  <style>\n",
              "    .colab-df-container {\n",
              "      display:flex;\n",
              "      flex-wrap:wrap;\n",
              "      gap: 12px;\n",
              "    }\n",
              "\n",
              "    .colab-df-convert {\n",
              "      background-color: #E8F0FE;\n",
              "      border: none;\n",
              "      border-radius: 50%;\n",
              "      cursor: pointer;\n",
              "      display: none;\n",
              "      fill: #1967D2;\n",
              "      height: 32px;\n",
              "      padding: 0 0 0 0;\n",
              "      width: 32px;\n",
              "    }\n",
              "\n",
              "    .colab-df-convert:hover {\n",
              "      background-color: #E2EBFA;\n",
              "      box-shadow: 0px 1px 2px rgba(60, 64, 67, 0.3), 0px 1px 3px 1px rgba(60, 64, 67, 0.15);\n",
              "      fill: #174EA6;\n",
              "    }\n",
              "\n",
              "    [theme=dark] .colab-df-convert {\n",
              "      background-color: #3B4455;\n",
              "      fill: #D2E3FC;\n",
              "    }\n",
              "\n",
              "    [theme=dark] .colab-df-convert:hover {\n",
              "      background-color: #434B5C;\n",
              "      box-shadow: 0px 1px 3px 1px rgba(0, 0, 0, 0.15);\n",
              "      filter: drop-shadow(0px 1px 2px rgba(0, 0, 0, 0.3));\n",
              "      fill: #FFFFFF;\n",
              "    }\n",
              "  </style>\n",
              "\n",
              "      <script>\n",
              "        const buttonEl =\n",
              "          document.querySelector('#df-1274c18d-c80e-401b-a8e1-a65e57a18892 button.colab-df-convert');\n",
              "        buttonEl.style.display =\n",
              "          google.colab.kernel.accessAllowed ? 'block' : 'none';\n",
              "\n",
              "        async function convertToInteractive(key) {\n",
              "          const element = document.querySelector('#df-1274c18d-c80e-401b-a8e1-a65e57a18892');\n",
              "          const dataTable =\n",
              "            await google.colab.kernel.invokeFunction('convertToInteractive',\n",
              "                                                     [key], {});\n",
              "          if (!dataTable) return;\n",
              "\n",
              "          const docLinkHtml = 'Like what you see? Visit the ' +\n",
              "            '<a target=\"_blank\" href=https://colab.research.google.com/notebooks/data_table.ipynb>data table notebook</a>'\n",
              "            + ' to learn more about interactive tables.';\n",
              "          element.innerHTML = '';\n",
              "          dataTable['output_type'] = 'display_data';\n",
              "          await google.colab.output.renderOutput(dataTable, element);\n",
              "          const docLink = document.createElement('div');\n",
              "          docLink.innerHTML = docLinkHtml;\n",
              "          element.appendChild(docLink);\n",
              "        }\n",
              "      </script>\n",
              "    </div>\n",
              "  </div>\n",
              "  "
            ]
          },
          "metadata": {},
          "execution_count": 134
        }
      ]
    },
    {
      "cell_type": "markdown",
      "source": [
        "### 3. До масштабирования"
      ],
      "metadata": {
        "id": "IV9WcLuSXN9Z"
      }
    },
    {
      "cell_type": "markdown",
      "source": [
        "#### 3.1. Разбейте данные на обучение и тест"
      ],
      "metadata": {
        "id": "_AP82AzwXN9a"
      }
    },
    {
      "cell_type": "code",
      "source": [
        "# Ваш код здесь\n",
        "X_train,X_test,y_train,y_test=train_test_split(X,y,random_state=41, test_size=0.3)\n",
        "X_train.shape, X_test.shape\n"
      ],
      "metadata": {
        "id": "GyulD-jYXN9a",
        "colab": {
          "base_uri": "https://localhost:8080/"
        },
        "outputId": "819b5a37-88e5-4795-f0bd-e81257d9e9c8"
      },
      "execution_count": null,
      "outputs": [
        {
          "output_type": "execute_result",
          "data": {
            "text/plain": [
              "((14448, 8), (6192, 8))"
            ]
          },
          "metadata": {},
          "execution_count": 135
        }
      ]
    },
    {
      "cell_type": "markdown",
      "source": [
        "#### 3.2. Обучите модель дерево решений"
      ],
      "metadata": {
        "id": "XvhGT1ElXN9b"
      }
    },
    {
      "cell_type": "code",
      "source": [
        "# Ваш код здесь\n",
        "from sklearn.tree import DecisionTreeRegressor\n",
        "tree = DecisionTreeRegressor(random_state=1, max_depth=9)\n",
        "tree.fit(X_train, y_train)"
      ],
      "metadata": {
        "id": "Y1pFbianXN9b",
        "colab": {
          "base_uri": "https://localhost:8080/"
        },
        "outputId": "dde3e68e-f637-4cec-bd07-50b745b06ec1"
      },
      "execution_count": null,
      "outputs": [
        {
          "output_type": "execute_result",
          "data": {
            "text/plain": [
              "DecisionTreeRegressor(ccp_alpha=0.0, criterion='mse', max_depth=9,\n",
              "                      max_features=None, max_leaf_nodes=None,\n",
              "                      min_impurity_decrease=0.0, min_impurity_split=None,\n",
              "                      min_samples_leaf=1, min_samples_split=2,\n",
              "                      min_weight_fraction_leaf=0.0, presort='deprecated',\n",
              "                      random_state=1, splitter='best')"
            ]
          },
          "metadata": {},
          "execution_count": 136
        }
      ]
    },
    {
      "cell_type": "markdown",
      "source": [
        "#### 3.3. Проверьте качество работы модели\n",
        "\n",
        "По метрикам можете повторить это занятие по [ссылке](https://youtu.be/vh2smjQyhp8)"
      ],
      "metadata": {
        "id": "B4VjtR4EXN9b"
      }
    },
    {
      "cell_type": "code",
      "source": [
        "# Ваш код здесь\n",
        "pred_train_tree=tree.predict(X_train)\n",
        "pred_test_tree=tree.predict(X_test)\n",
        "print(f'R2 Train{r2_score(pred_train_tree,y_train)}')\n",
        "print(f'R2 Test:{r2_score(pred_test_tree,y_test)}')\n"
      ],
      "metadata": {
        "id": "kRJBUF5wXN9c",
        "colab": {
          "base_uri": "https://localhost:8080/"
        },
        "outputId": "f8a461e7-69eb-4928-af81-ad866a3f2325"
      },
      "execution_count": null,
      "outputs": [
        {
          "output_type": "stream",
          "name": "stdout",
          "text": [
            "R2 Train0.7464030135902033\n",
            "R2 Test:0.6210838696771732\n"
          ]
        }
      ]
    },
    {
      "cell_type": "markdown",
      "source": [
        "### 4. Масштабирование\n"
      ],
      "metadata": {
        "id": "mwejVQcAXN9c"
      }
    },
    {
      "cell_type": "markdown",
      "source": [
        "#### 4.1. Возьмите метод масштабирования из sklearn"
      ],
      "metadata": {
        "id": "wwBOGH9BXN9c"
      }
    },
    {
      "cell_type": "code",
      "source": [
        "# Ваш код здесь\n",
        "from sklearn.preprocessing import StandardScaler\n",
        "ssc=StandardScaler()\n"
      ],
      "metadata": {
        "id": "Sg0cjcWcXN9c"
      },
      "execution_count": null,
      "outputs": []
    },
    {
      "cell_type": "markdown",
      "source": [
        "##### 4.1.1. Обучите модель масштабирования"
      ],
      "metadata": {
        "id": "qIWvnKudXN9d"
      }
    },
    {
      "cell_type": "code",
      "source": [
        "# Ваш код здесь\n",
        "ssc.fit(X_train)"
      ],
      "metadata": {
        "id": "VRjWw5nQXN9d",
        "colab": {
          "base_uri": "https://localhost:8080/"
        },
        "outputId": "f7413346-8c0b-41c5-fd9e-256ff77d070a"
      },
      "execution_count": null,
      "outputs": [
        {
          "output_type": "execute_result",
          "data": {
            "text/plain": [
              "StandardScaler(copy=True, with_mean=True, with_std=True)"
            ]
          },
          "metadata": {},
          "execution_count": 139
        }
      ]
    },
    {
      "cell_type": "markdown",
      "source": [
        "##### 4.1.2. Посмотрите, какие получились вспомогательные значения для этого подхода масштабирования"
      ],
      "metadata": {
        "id": "gEg5NvgNXN9d"
      }
    },
    {
      "cell_type": "code",
      "source": [
        "# Ваш код здесь\n",
        "ssc.mean_"
      ],
      "metadata": {
        "id": "UvV0msGaXN9e",
        "colab": {
          "base_uri": "https://localhost:8080/"
        },
        "outputId": "134f8536-8da0-4790-f977-0ddd24664855"
      },
      "execution_count": null,
      "outputs": [
        {
          "output_type": "execute_result",
          "data": {
            "text/plain": [
              "array([   3.87458063,   28.55689369,    5.44047656,    1.09833156,\n",
              "       1421.95992525,    3.01953686,   35.63900678, -119.57395695])"
            ]
          },
          "metadata": {},
          "execution_count": 140
        }
      ]
    },
    {
      "cell_type": "code",
      "source": [
        "# Ваш код здесь\n",
        "ssc.scale_"
      ],
      "metadata": {
        "id": "juzKnWyYXN9e",
        "colab": {
          "base_uri": "https://localhost:8080/"
        },
        "outputId": "727b9ef1-4ca2-4d0a-e970-11cda03dc083"
      },
      "execution_count": null,
      "outputs": [
        {
          "output_type": "execute_result",
          "data": {
            "text/plain": [
              "array([   1.90658911,   12.58185061,    2.62431219,    0.51194472,\n",
              "       1141.70272772,    6.59411622,    2.135789  ,    2.00517733])"
            ]
          },
          "metadata": {},
          "execution_count": 141
        }
      ]
    },
    {
      "cell_type": "markdown",
      "source": [
        "##### 4.1.3. Убедитесь, что значения такие же через подсчет статистик\n",
        "\n",
        "1. Возьмите первый признак\n",
        "2. Подсчитайте статистики, которые использовались в выбранном методе масштабирования\n",
        "3. Сравните статистики"
      ],
      "metadata": {
        "id": "7vD5X6aBXN9f"
      }
    },
    {
      "cell_type": "code",
      "source": [
        "# Ваш код здесь\n",
        "X_train.mean()\n",
        "X_train.std()\n"
      ],
      "metadata": {
        "id": "DJjjePo_XN9f",
        "colab": {
          "base_uri": "https://localhost:8080/"
        },
        "outputId": "0fc933b5-3e65-44bc-a43c-936cbee5059a"
      },
      "execution_count": null,
      "outputs": [
        {
          "output_type": "execute_result",
          "data": {
            "text/plain": [
              "MedInc          1.9067\n",
              "HouseAge       12.5823\n",
              "AveRooms        2.6244\n",
              "AveBedrms       0.5120\n",
              "Population   1141.7422\n",
              "AveOccup        6.5943\n",
              "Latitude        2.1359\n",
              "Longitude       2.0052\n",
              "dtype: float64"
            ]
          },
          "metadata": {},
          "execution_count": 142
        }
      ]
    },
    {
      "cell_type": "markdown",
      "source": [
        "Да, значения среднего и стандартного отклонения совпадают."
      ],
      "metadata": {
        "id": "TMNawxLfXN9f"
      }
    },
    {
      "cell_type": "markdown",
      "source": [
        "#### 4.2. Преобразуйте обучающие данные с помощью модели масштабирования"
      ],
      "metadata": {
        "id": "Y9mLvTFLXN9f"
      }
    },
    {
      "cell_type": "code",
      "source": [
        "# Ваш код здесь\n",
        "X_train_transform=ssc.transform(X_train)\n"
      ],
      "metadata": {
        "id": "mc7U2YstXN9f"
      },
      "execution_count": null,
      "outputs": []
    },
    {
      "cell_type": "markdown",
      "source": [
        "#### 4.3. Преобразуйте тестовые данные с помощью модели масштабирования"
      ],
      "metadata": {
        "id": "HyGGMyHLXN9g"
      }
    },
    {
      "cell_type": "code",
      "source": [
        "# Ваш код здесь\n",
        "X_test_transform=ssc.transform(X_test)\n"
      ],
      "metadata": {
        "id": "nRO3_7HPXN9g"
      },
      "execution_count": null,
      "outputs": []
    },
    {
      "cell_type": "markdown",
      "source": [
        "#### 4.4. Обучите еще раз модель на масштабированных данных"
      ],
      "metadata": {
        "id": "n83UzfzmXN9g"
      }
    },
    {
      "cell_type": "code",
      "source": [
        "# Ваш код здесь\n",
        "tree.fit(X_train_transform,y_train)\n"
      ],
      "metadata": {
        "id": "lNbE0qM8XN9g",
        "colab": {
          "base_uri": "https://localhost:8080/"
        },
        "outputId": "55fbc734-e319-4606-bb7d-97247b3a2ff7"
      },
      "execution_count": null,
      "outputs": [
        {
          "output_type": "execute_result",
          "data": {
            "text/plain": [
              "DecisionTreeRegressor(ccp_alpha=0.0, criterion='mse', max_depth=9,\n",
              "                      max_features=None, max_leaf_nodes=None,\n",
              "                      min_impurity_decrease=0.0, min_impurity_split=None,\n",
              "                      min_samples_leaf=1, min_samples_split=2,\n",
              "                      min_weight_fraction_leaf=0.0, presort='deprecated',\n",
              "                      random_state=1, splitter='best')"
            ]
          },
          "metadata": {},
          "execution_count": 145
        }
      ]
    },
    {
      "cell_type": "markdown",
      "source": [
        "#### 4.5. Проверьте качество работы модели\n",
        "\n",
        "По метрикам можете повторить это занятие по [ссылке](https://youtu.be/vh2smjQyhp8)"
      ],
      "metadata": {
        "id": "hV2gNIMwXN9h"
      }
    },
    {
      "cell_type": "code",
      "source": [
        "# Ваш код здесь\n",
        "pred_train_tree=tree.predict(X_train_transform)\n",
        "pred_test_tree=tree.predict(X_test_transform)\n",
        "print(f'R2 Train{r2_score(pred_train_tree,y_train)}')\n",
        "print(f'R2 Test:{r2_score(pred_test_tree,y_test)}')\n"
      ],
      "metadata": {
        "id": "s9NPnuzvXN9h",
        "colab": {
          "base_uri": "https://localhost:8080/"
        },
        "outputId": "cffeb849-fa3e-489b-dc3b-b9c8d3139bea"
      },
      "execution_count": null,
      "outputs": [
        {
          "output_type": "stream",
          "name": "stdout",
          "text": [
            "R2 Train0.7464030135902033\n",
            "R2 Test:0.620800245207868\n"
          ]
        }
      ]
    },
    {
      "cell_type": "markdown",
      "source": [
        "#### 4.6. Сделайте выводы"
      ],
      "metadata": {
        "id": "kx3fy70_XN9h"
      }
    },
    {
      "cell_type": "code",
      "source": [
        "# Ваши выводы здесь\n"
      ],
      "metadata": {
        "id": "ip_V-5AEXN9i"
      },
      "execution_count": null,
      "outputs": []
    },
    {
      "cell_type": "markdown",
      "source": [
        "### 5. Свой класс MinMaxScaler\n",
        "\n",
        "В этом пункте напишите с нуля свою модель масштабирования данных.\n"
      ],
      "metadata": {
        "id": "3J2vvjtz6Jn-"
      }
    },
    {
      "cell_type": "markdown",
      "source": [
        "#### 5.1. Реализуйте в классе метод fit, который высчитывает минимальное и максимальное значения в признаках"
      ],
      "metadata": {
        "id": "Rt6BLJ8b6S9G"
      }
    },
    {
      "cell_type": "code",
      "source": [
        "# Ваш код здесь\n",
        "\n",
        "mins_train=X_train.min()\n",
        "maxs_train=X_train.max()\n",
        "mins_test=X_test.min()\n",
        "maxs_test=X_test.max()\n",
        "X__train_scaler=(X_train-mins_train)/(maxs_train-mins_train)\n",
        "X_test_scaler=(X_test-mins_test)/(maxs_test-mins_test)"
      ],
      "metadata": {
        "id": "zUxrZQRZ6qvb"
      },
      "execution_count": null,
      "outputs": []
    },
    {
      "cell_type": "markdown",
      "source": [
        "#### 5.2. Проверьте, что данный метод работает корректно на выборке с предыдущего пункта"
      ],
      "metadata": {
        "id": "RPZTa4aQ68Gd"
      }
    },
    {
      "cell_type": "code",
      "source": [
        "# Ваш код здесь\n",
        "display(mins_train,maxs_train)"
      ],
      "metadata": {
        "id": "QaeJQN1O7Lv6",
        "colab": {
          "base_uri": "https://localhost:8080/",
          "height": 329
        },
        "outputId": "f561ddc1-aaf4-4687-9d12-970f932d9cd6"
      },
      "execution_count": null,
      "outputs": [
        {
          "output_type": "display_data",
          "data": {
            "text/plain": [
              "MedInc          0.499900\n",
              "HouseAge        1.000000\n",
              "AveRooms        0.846154\n",
              "AveBedrms       0.375000\n",
              "Population      3.000000\n",
              "AveOccup        0.692308\n",
              "Latitude       32.550000\n",
              "Longitude    -124.300000\n",
              "dtype: float64"
            ]
          },
          "metadata": {}
        },
        {
          "output_type": "display_data",
          "data": {
            "text/plain": [
              "MedInc           15.000100\n",
              "HouseAge         52.000000\n",
              "AveRooms        141.909091\n",
              "AveBedrms        34.066667\n",
              "Population    35682.000000\n",
              "AveOccup        599.714286\n",
              "Latitude         41.950000\n",
              "Longitude      -114.310000\n",
              "dtype: float64"
            ]
          },
          "metadata": {}
        }
      ]
    },
    {
      "cell_type": "markdown",
      "source": [
        "#### 5.3. Реализуйте в классе метод transform, который преобразует входную выборку"
      ],
      "metadata": {
        "id": "ShMRtfyC7F6-"
      }
    },
    {
      "cell_type": "code",
      "source": [
        "# Ваш код здесь\n",
        "X__train_scaler.describe()\n",
        "\n"
      ],
      "metadata": {
        "id": "Q-uAJPgn7VZF"
      },
      "execution_count": null,
      "outputs": []
    },
    {
      "cell_type": "markdown",
      "source": [
        "#### 5.4. Проверьте, что данный метод работает корректно"
      ],
      "metadata": {
        "id": "MO-rxlwQ7ek7"
      }
    },
    {
      "cell_type": "code",
      "source": [
        "# Ваш код здесь\n",
        "X__train_scaler.describe()"
      ],
      "metadata": {
        "id": "CZJUFNnh7ek8",
        "colab": {
          "base_uri": "https://localhost:8080/",
          "height": 364
        },
        "outputId": "4e374eab-5976-465f-d081-1d68fb615bb9"
      },
      "execution_count": null,
      "outputs": [
        {
          "output_type": "execute_result",
          "data": {
            "text/plain": [
              "             MedInc      HouseAge      AveRooms     AveBedrms    Population  \\\n",
              "count  14448.000000  14448.000000  14448.000000  14448.000000  14448.000000   \n",
              "mean       0.232733      0.540331      0.032569      0.021469      0.039770   \n",
              "std        0.131492      0.246711      0.018604      0.015196      0.032000   \n",
              "min        0.000000      0.000000      0.000000      0.000000      0.000000   \n",
              "25%        0.142089      0.333333      0.025467      0.018721      0.022002   \n",
              "50%        0.209618      0.549020      0.031119      0.019998      0.032624   \n",
              "75%        0.292918      0.705882      0.036966      0.021477      0.048215   \n",
              "max        1.000000      1.000000      1.000000      1.000000      1.000000   \n",
              "\n",
              "           AveOccup      Latitude     Longitude  \n",
              "count  14448.000000  14448.000000  14448.000000  \n",
              "mean       0.003885      0.328618      0.473077  \n",
              "std        0.011009      0.227219      0.200725  \n",
              "min        0.000000      0.000000      0.000000  \n",
              "25%        0.002895      0.147872      0.251251  \n",
              "50%        0.003537      0.181915      0.580581  \n",
              "75%        0.004314      0.548936      0.629630  \n",
              "max        1.000000      1.000000      1.000000  "
            ],
            "text/html": [
              "\n",
              "  <div id=\"df-a29a607e-f636-49e7-87ce-72b26f1c611d\">\n",
              "    <div class=\"colab-df-container\">\n",
              "      <div>\n",
              "<style scoped>\n",
              "    .dataframe tbody tr th:only-of-type {\n",
              "        vertical-align: middle;\n",
              "    }\n",
              "\n",
              "    .dataframe tbody tr th {\n",
              "        vertical-align: top;\n",
              "    }\n",
              "\n",
              "    .dataframe thead th {\n",
              "        text-align: right;\n",
              "    }\n",
              "</style>\n",
              "<table border=\"1\" class=\"dataframe\">\n",
              "  <thead>\n",
              "    <tr style=\"text-align: right;\">\n",
              "      <th></th>\n",
              "      <th>MedInc</th>\n",
              "      <th>HouseAge</th>\n",
              "      <th>AveRooms</th>\n",
              "      <th>AveBedrms</th>\n",
              "      <th>Population</th>\n",
              "      <th>AveOccup</th>\n",
              "      <th>Latitude</th>\n",
              "      <th>Longitude</th>\n",
              "    </tr>\n",
              "  </thead>\n",
              "  <tbody>\n",
              "    <tr>\n",
              "      <th>count</th>\n",
              "      <td>14448.000000</td>\n",
              "      <td>14448.000000</td>\n",
              "      <td>14448.000000</td>\n",
              "      <td>14448.000000</td>\n",
              "      <td>14448.000000</td>\n",
              "      <td>14448.000000</td>\n",
              "      <td>14448.000000</td>\n",
              "      <td>14448.000000</td>\n",
              "    </tr>\n",
              "    <tr>\n",
              "      <th>mean</th>\n",
              "      <td>0.232733</td>\n",
              "      <td>0.540331</td>\n",
              "      <td>0.032569</td>\n",
              "      <td>0.021469</td>\n",
              "      <td>0.039770</td>\n",
              "      <td>0.003885</td>\n",
              "      <td>0.328618</td>\n",
              "      <td>0.473077</td>\n",
              "    </tr>\n",
              "    <tr>\n",
              "      <th>std</th>\n",
              "      <td>0.131492</td>\n",
              "      <td>0.246711</td>\n",
              "      <td>0.018604</td>\n",
              "      <td>0.015196</td>\n",
              "      <td>0.032000</td>\n",
              "      <td>0.011009</td>\n",
              "      <td>0.227219</td>\n",
              "      <td>0.200725</td>\n",
              "    </tr>\n",
              "    <tr>\n",
              "      <th>min</th>\n",
              "      <td>0.000000</td>\n",
              "      <td>0.000000</td>\n",
              "      <td>0.000000</td>\n",
              "      <td>0.000000</td>\n",
              "      <td>0.000000</td>\n",
              "      <td>0.000000</td>\n",
              "      <td>0.000000</td>\n",
              "      <td>0.000000</td>\n",
              "    </tr>\n",
              "    <tr>\n",
              "      <th>25%</th>\n",
              "      <td>0.142089</td>\n",
              "      <td>0.333333</td>\n",
              "      <td>0.025467</td>\n",
              "      <td>0.018721</td>\n",
              "      <td>0.022002</td>\n",
              "      <td>0.002895</td>\n",
              "      <td>0.147872</td>\n",
              "      <td>0.251251</td>\n",
              "    </tr>\n",
              "    <tr>\n",
              "      <th>50%</th>\n",
              "      <td>0.209618</td>\n",
              "      <td>0.549020</td>\n",
              "      <td>0.031119</td>\n",
              "      <td>0.019998</td>\n",
              "      <td>0.032624</td>\n",
              "      <td>0.003537</td>\n",
              "      <td>0.181915</td>\n",
              "      <td>0.580581</td>\n",
              "    </tr>\n",
              "    <tr>\n",
              "      <th>75%</th>\n",
              "      <td>0.292918</td>\n",
              "      <td>0.705882</td>\n",
              "      <td>0.036966</td>\n",
              "      <td>0.021477</td>\n",
              "      <td>0.048215</td>\n",
              "      <td>0.004314</td>\n",
              "      <td>0.548936</td>\n",
              "      <td>0.629630</td>\n",
              "    </tr>\n",
              "    <tr>\n",
              "      <th>max</th>\n",
              "      <td>1.000000</td>\n",
              "      <td>1.000000</td>\n",
              "      <td>1.000000</td>\n",
              "      <td>1.000000</td>\n",
              "      <td>1.000000</td>\n",
              "      <td>1.000000</td>\n",
              "      <td>1.000000</td>\n",
              "      <td>1.000000</td>\n",
              "    </tr>\n",
              "  </tbody>\n",
              "</table>\n",
              "</div>\n",
              "      <button class=\"colab-df-convert\" onclick=\"convertToInteractive('df-a29a607e-f636-49e7-87ce-72b26f1c611d')\"\n",
              "              title=\"Convert this dataframe to an interactive table.\"\n",
              "              style=\"display:none;\">\n",
              "        \n",
              "  <svg xmlns=\"http://www.w3.org/2000/svg\" height=\"24px\"viewBox=\"0 0 24 24\"\n",
              "       width=\"24px\">\n",
              "    <path d=\"M0 0h24v24H0V0z\" fill=\"none\"/>\n",
              "    <path d=\"M18.56 5.44l.94 2.06.94-2.06 2.06-.94-2.06-.94-.94-2.06-.94 2.06-2.06.94zm-11 1L8.5 8.5l.94-2.06 2.06-.94-2.06-.94L8.5 2.5l-.94 2.06-2.06.94zm10 10l.94 2.06.94-2.06 2.06-.94-2.06-.94-.94-2.06-.94 2.06-2.06.94z\"/><path d=\"M17.41 7.96l-1.37-1.37c-.4-.4-.92-.59-1.43-.59-.52 0-1.04.2-1.43.59L10.3 9.45l-7.72 7.72c-.78.78-.78 2.05 0 2.83L4 21.41c.39.39.9.59 1.41.59.51 0 1.02-.2 1.41-.59l7.78-7.78 2.81-2.81c.8-.78.8-2.07 0-2.86zM5.41 20L4 18.59l7.72-7.72 1.47 1.35L5.41 20z\"/>\n",
              "  </svg>\n",
              "      </button>\n",
              "      \n",
              "  <style>\n",
              "    .colab-df-container {\n",
              "      display:flex;\n",
              "      flex-wrap:wrap;\n",
              "      gap: 12px;\n",
              "    }\n",
              "\n",
              "    .colab-df-convert {\n",
              "      background-color: #E8F0FE;\n",
              "      border: none;\n",
              "      border-radius: 50%;\n",
              "      cursor: pointer;\n",
              "      display: none;\n",
              "      fill: #1967D2;\n",
              "      height: 32px;\n",
              "      padding: 0 0 0 0;\n",
              "      width: 32px;\n",
              "    }\n",
              "\n",
              "    .colab-df-convert:hover {\n",
              "      background-color: #E2EBFA;\n",
              "      box-shadow: 0px 1px 2px rgba(60, 64, 67, 0.3), 0px 1px 3px 1px rgba(60, 64, 67, 0.15);\n",
              "      fill: #174EA6;\n",
              "    }\n",
              "\n",
              "    [theme=dark] .colab-df-convert {\n",
              "      background-color: #3B4455;\n",
              "      fill: #D2E3FC;\n",
              "    }\n",
              "\n",
              "    [theme=dark] .colab-df-convert:hover {\n",
              "      background-color: #434B5C;\n",
              "      box-shadow: 0px 1px 3px 1px rgba(0, 0, 0, 0.15);\n",
              "      filter: drop-shadow(0px 1px 2px rgba(0, 0, 0, 0.3));\n",
              "      fill: #FFFFFF;\n",
              "    }\n",
              "  </style>\n",
              "\n",
              "      <script>\n",
              "        const buttonEl =\n",
              "          document.querySelector('#df-a29a607e-f636-49e7-87ce-72b26f1c611d button.colab-df-convert');\n",
              "        buttonEl.style.display =\n",
              "          google.colab.kernel.accessAllowed ? 'block' : 'none';\n",
              "\n",
              "        async function convertToInteractive(key) {\n",
              "          const element = document.querySelector('#df-a29a607e-f636-49e7-87ce-72b26f1c611d');\n",
              "          const dataTable =\n",
              "            await google.colab.kernel.invokeFunction('convertToInteractive',\n",
              "                                                     [key], {});\n",
              "          if (!dataTable) return;\n",
              "\n",
              "          const docLinkHtml = 'Like what you see? Visit the ' +\n",
              "            '<a target=\"_blank\" href=https://colab.research.google.com/notebooks/data_table.ipynb>data table notebook</a>'\n",
              "            + ' to learn more about interactive tables.';\n",
              "          element.innerHTML = '';\n",
              "          dataTable['output_type'] = 'display_data';\n",
              "          await google.colab.output.renderOutput(dataTable, element);\n",
              "          const docLink = document.createElement('div');\n",
              "          docLink.innerHTML = docLinkHtml;\n",
              "          element.appendChild(docLink);\n",
              "        }\n",
              "      </script>\n",
              "    </div>\n",
              "  </div>\n",
              "  "
            ]
          },
          "metadata": {},
          "execution_count": 76
        }
      ]
    },
    {
      "cell_type": "markdown",
      "source": [
        "### 6. Свой класс StandardScaler\n",
        "\n",
        "В этом пункте напишите с нуля еще одну модель масштабирования данных.\n"
      ],
      "metadata": {
        "id": "NC5cMmFj9Y-f"
      }
    },
    {
      "cell_type": "markdown",
      "source": [
        "#### 5.1. Реализуйте в классе метод fit, который высчитывает среднее и стандартное отклонение в признаках"
      ],
      "metadata": {
        "id": "rbPD2IDX9Y-g"
      }
    },
    {
      "cell_type": "code",
      "source": [
        "# Ваш код здесь\n",
        "means=X_train.mean()\n",
        "stds=X_train.std()\n"
      ],
      "metadata": {
        "id": "WqEEyHy89Y-g"
      },
      "execution_count": null,
      "outputs": []
    },
    {
      "cell_type": "markdown",
      "source": [
        "#### 5.2. Проверьте, что данный метод работает корректно на выборке с предыдущего пункта"
      ],
      "metadata": {
        "id": "uQKOg6Mw9Y-h"
      }
    },
    {
      "cell_type": "code",
      "source": [
        "# Ваш код здесь\n",
        "display(means,stds)"
      ],
      "metadata": {
        "id": "LpVnAnH99Y-h",
        "colab": {
          "base_uri": "https://localhost:8080/",
          "height": 329
        },
        "outputId": "a3d90cc3-3267-4815-b643-58b1f827eaf2"
      },
      "execution_count": null,
      "outputs": [
        {
          "output_type": "display_data",
          "data": {
            "text/plain": [
              "MedInc           3.874581\n",
              "HouseAge        28.556894\n",
              "AveRooms         5.440477\n",
              "AveBedrms        1.098332\n",
              "Population    1421.959925\n",
              "AveOccup         3.019537\n",
              "Latitude        35.639007\n",
              "Longitude     -119.573957\n",
              "dtype: float64"
            ]
          },
          "metadata": {}
        },
        {
          "output_type": "display_data",
          "data": {
            "text/plain": [
              "MedInc           1.906655\n",
              "HouseAge        12.582286\n",
              "AveRooms         2.624403\n",
              "AveBedrms        0.511962\n",
              "Population    1141.742241\n",
              "AveOccup         6.594344\n",
              "Latitude         2.135863\n",
              "Longitude        2.005247\n",
              "dtype: float64"
            ]
          },
          "metadata": {}
        }
      ]
    },
    {
      "cell_type": "markdown",
      "source": [
        "#### 5.3. Реализуйте в классе метод transform, который преобразует входную выборку"
      ],
      "metadata": {
        "id": "X8nmogUG9Y-i"
      }
    },
    {
      "cell_type": "code",
      "source": [
        "# Ваш код здесь\n",
        "X_train_standard=(X_train-means)/stds"
      ],
      "metadata": {
        "id": "gQE4Zr4m9Y-i"
      },
      "execution_count": null,
      "outputs": []
    },
    {
      "cell_type": "markdown",
      "source": [
        "#### 5.4. Проверьте, что данный метод работает корректно"
      ],
      "metadata": {
        "id": "thZSy2bo9Y-i"
      }
    },
    {
      "cell_type": "code",
      "source": [
        "pd.set_option('display.float_format', lambda x: '%0.4f' % x)"
      ],
      "metadata": {
        "id": "6tY3moY3FJTE"
      },
      "execution_count": null,
      "outputs": []
    },
    {
      "cell_type": "code",
      "source": [
        "# Ваш код здесь\n",
        "X_train_standard.describe()\n"
      ],
      "metadata": {
        "id": "ZUP5vM3S9Y-i",
        "colab": {
          "base_uri": "https://localhost:8080/",
          "height": 364
        },
        "outputId": "07abf2fe-78c9-4d4c-c7f9-adb5a6907112"
      },
      "execution_count": null,
      "outputs": [
        {
          "output_type": "execute_result",
          "data": {
            "text/plain": [
              "          MedInc   HouseAge   AveRooms  AveBedrms  Population   AveOccup  \\\n",
              "count 14448.0000 14448.0000 14448.0000 14448.0000  14448.0000 14448.0000   \n",
              "mean     -0.0000     0.0000    -0.0000    -0.0000      0.0000    -0.0000   \n",
              "std       1.0000     1.0000     1.0000     1.0000      1.0000     1.0000   \n",
              "min      -1.7699    -2.1901    -1.7506    -1.4129     -1.2428    -0.3529   \n",
              "25%      -0.6894    -0.8390    -0.3818    -0.1808     -0.5553    -0.0899   \n",
              "50%      -0.1758     0.0352    -0.0780    -0.0968     -0.2233    -0.0316   \n",
              "75%       0.4577     0.6710     0.2363     0.0005      0.2639     0.0390   \n",
              "max       5.8351     1.8632    51.9999    64.3960     30.0068    90.4858   \n",
              "\n",
              "        Latitude  Longitude  \n",
              "count 14448.0000 14448.0000  \n",
              "mean      0.0000     0.0000  \n",
              "std       1.0000     1.0000  \n",
              "min      -1.4463    -2.3568  \n",
              "25%      -0.7955    -1.1051  \n",
              "50%      -0.6456     0.5356  \n",
              "75%       0.9696     0.7799  \n",
              "max       2.9548     2.6251  "
            ],
            "text/html": [
              "\n",
              "  <div id=\"df-2f25a7e0-34a1-4a53-b5b6-9a7c693e2c54\">\n",
              "    <div class=\"colab-df-container\">\n",
              "      <div>\n",
              "<style scoped>\n",
              "    .dataframe tbody tr th:only-of-type {\n",
              "        vertical-align: middle;\n",
              "    }\n",
              "\n",
              "    .dataframe tbody tr th {\n",
              "        vertical-align: top;\n",
              "    }\n",
              "\n",
              "    .dataframe thead th {\n",
              "        text-align: right;\n",
              "    }\n",
              "</style>\n",
              "<table border=\"1\" class=\"dataframe\">\n",
              "  <thead>\n",
              "    <tr style=\"text-align: right;\">\n",
              "      <th></th>\n",
              "      <th>MedInc</th>\n",
              "      <th>HouseAge</th>\n",
              "      <th>AveRooms</th>\n",
              "      <th>AveBedrms</th>\n",
              "      <th>Population</th>\n",
              "      <th>AveOccup</th>\n",
              "      <th>Latitude</th>\n",
              "      <th>Longitude</th>\n",
              "    </tr>\n",
              "  </thead>\n",
              "  <tbody>\n",
              "    <tr>\n",
              "      <th>count</th>\n",
              "      <td>14448.0000</td>\n",
              "      <td>14448.0000</td>\n",
              "      <td>14448.0000</td>\n",
              "      <td>14448.0000</td>\n",
              "      <td>14448.0000</td>\n",
              "      <td>14448.0000</td>\n",
              "      <td>14448.0000</td>\n",
              "      <td>14448.0000</td>\n",
              "    </tr>\n",
              "    <tr>\n",
              "      <th>mean</th>\n",
              "      <td>-0.0000</td>\n",
              "      <td>0.0000</td>\n",
              "      <td>-0.0000</td>\n",
              "      <td>-0.0000</td>\n",
              "      <td>0.0000</td>\n",
              "      <td>-0.0000</td>\n",
              "      <td>0.0000</td>\n",
              "      <td>0.0000</td>\n",
              "    </tr>\n",
              "    <tr>\n",
              "      <th>std</th>\n",
              "      <td>1.0000</td>\n",
              "      <td>1.0000</td>\n",
              "      <td>1.0000</td>\n",
              "      <td>1.0000</td>\n",
              "      <td>1.0000</td>\n",
              "      <td>1.0000</td>\n",
              "      <td>1.0000</td>\n",
              "      <td>1.0000</td>\n",
              "    </tr>\n",
              "    <tr>\n",
              "      <th>min</th>\n",
              "      <td>-1.7699</td>\n",
              "      <td>-2.1901</td>\n",
              "      <td>-1.7506</td>\n",
              "      <td>-1.4129</td>\n",
              "      <td>-1.2428</td>\n",
              "      <td>-0.3529</td>\n",
              "      <td>-1.4463</td>\n",
              "      <td>-2.3568</td>\n",
              "    </tr>\n",
              "    <tr>\n",
              "      <th>25%</th>\n",
              "      <td>-0.6894</td>\n",
              "      <td>-0.8390</td>\n",
              "      <td>-0.3818</td>\n",
              "      <td>-0.1808</td>\n",
              "      <td>-0.5553</td>\n",
              "      <td>-0.0899</td>\n",
              "      <td>-0.7955</td>\n",
              "      <td>-1.1051</td>\n",
              "    </tr>\n",
              "    <tr>\n",
              "      <th>50%</th>\n",
              "      <td>-0.1758</td>\n",
              "      <td>0.0352</td>\n",
              "      <td>-0.0780</td>\n",
              "      <td>-0.0968</td>\n",
              "      <td>-0.2233</td>\n",
              "      <td>-0.0316</td>\n",
              "      <td>-0.6456</td>\n",
              "      <td>0.5356</td>\n",
              "    </tr>\n",
              "    <tr>\n",
              "      <th>75%</th>\n",
              "      <td>0.4577</td>\n",
              "      <td>0.6710</td>\n",
              "      <td>0.2363</td>\n",
              "      <td>0.0005</td>\n",
              "      <td>0.2639</td>\n",
              "      <td>0.0390</td>\n",
              "      <td>0.9696</td>\n",
              "      <td>0.7799</td>\n",
              "    </tr>\n",
              "    <tr>\n",
              "      <th>max</th>\n",
              "      <td>5.8351</td>\n",
              "      <td>1.8632</td>\n",
              "      <td>51.9999</td>\n",
              "      <td>64.3960</td>\n",
              "      <td>30.0068</td>\n",
              "      <td>90.4858</td>\n",
              "      <td>2.9548</td>\n",
              "      <td>2.6251</td>\n",
              "    </tr>\n",
              "  </tbody>\n",
              "</table>\n",
              "</div>\n",
              "      <button class=\"colab-df-convert\" onclick=\"convertToInteractive('df-2f25a7e0-34a1-4a53-b5b6-9a7c693e2c54')\"\n",
              "              title=\"Convert this dataframe to an interactive table.\"\n",
              "              style=\"display:none;\">\n",
              "        \n",
              "  <svg xmlns=\"http://www.w3.org/2000/svg\" height=\"24px\"viewBox=\"0 0 24 24\"\n",
              "       width=\"24px\">\n",
              "    <path d=\"M0 0h24v24H0V0z\" fill=\"none\"/>\n",
              "    <path d=\"M18.56 5.44l.94 2.06.94-2.06 2.06-.94-2.06-.94-.94-2.06-.94 2.06-2.06.94zm-11 1L8.5 8.5l.94-2.06 2.06-.94-2.06-.94L8.5 2.5l-.94 2.06-2.06.94zm10 10l.94 2.06.94-2.06 2.06-.94-2.06-.94-.94-2.06-.94 2.06-2.06.94z\"/><path d=\"M17.41 7.96l-1.37-1.37c-.4-.4-.92-.59-1.43-.59-.52 0-1.04.2-1.43.59L10.3 9.45l-7.72 7.72c-.78.78-.78 2.05 0 2.83L4 21.41c.39.39.9.59 1.41.59.51 0 1.02-.2 1.41-.59l7.78-7.78 2.81-2.81c.8-.78.8-2.07 0-2.86zM5.41 20L4 18.59l7.72-7.72 1.47 1.35L5.41 20z\"/>\n",
              "  </svg>\n",
              "      </button>\n",
              "      \n",
              "  <style>\n",
              "    .colab-df-container {\n",
              "      display:flex;\n",
              "      flex-wrap:wrap;\n",
              "      gap: 12px;\n",
              "    }\n",
              "\n",
              "    .colab-df-convert {\n",
              "      background-color: #E8F0FE;\n",
              "      border: none;\n",
              "      border-radius: 50%;\n",
              "      cursor: pointer;\n",
              "      display: none;\n",
              "      fill: #1967D2;\n",
              "      height: 32px;\n",
              "      padding: 0 0 0 0;\n",
              "      width: 32px;\n",
              "    }\n",
              "\n",
              "    .colab-df-convert:hover {\n",
              "      background-color: #E2EBFA;\n",
              "      box-shadow: 0px 1px 2px rgba(60, 64, 67, 0.3), 0px 1px 3px 1px rgba(60, 64, 67, 0.15);\n",
              "      fill: #174EA6;\n",
              "    }\n",
              "\n",
              "    [theme=dark] .colab-df-convert {\n",
              "      background-color: #3B4455;\n",
              "      fill: #D2E3FC;\n",
              "    }\n",
              "\n",
              "    [theme=dark] .colab-df-convert:hover {\n",
              "      background-color: #434B5C;\n",
              "      box-shadow: 0px 1px 3px 1px rgba(0, 0, 0, 0.15);\n",
              "      filter: drop-shadow(0px 1px 2px rgba(0, 0, 0, 0.3));\n",
              "      fill: #FFFFFF;\n",
              "    }\n",
              "  </style>\n",
              "\n",
              "      <script>\n",
              "        const buttonEl =\n",
              "          document.querySelector('#df-2f25a7e0-34a1-4a53-b5b6-9a7c693e2c54 button.colab-df-convert');\n",
              "        buttonEl.style.display =\n",
              "          google.colab.kernel.accessAllowed ? 'block' : 'none';\n",
              "\n",
              "        async function convertToInteractive(key) {\n",
              "          const element = document.querySelector('#df-2f25a7e0-34a1-4a53-b5b6-9a7c693e2c54');\n",
              "          const dataTable =\n",
              "            await google.colab.kernel.invokeFunction('convertToInteractive',\n",
              "                                                     [key], {});\n",
              "          if (!dataTable) return;\n",
              "\n",
              "          const docLinkHtml = 'Like what you see? Visit the ' +\n",
              "            '<a target=\"_blank\" href=https://colab.research.google.com/notebooks/data_table.ipynb>data table notebook</a>'\n",
              "            + ' to learn more about interactive tables.';\n",
              "          element.innerHTML = '';\n",
              "          dataTable['output_type'] = 'display_data';\n",
              "          await google.colab.output.renderOutput(dataTable, element);\n",
              "          const docLink = document.createElement('div');\n",
              "          docLink.innerHTML = docLinkHtml;\n",
              "          element.appendChild(docLink);\n",
              "        }\n",
              "      </script>\n",
              "    </div>\n",
              "  </div>\n",
              "  "
            ]
          },
          "metadata": {},
          "execution_count": 83
        }
      ]
    },
    {
      "cell_type": "markdown",
      "source": [
        "## Резюме \n",
        "\n",
        "Сегодня на практическом занятии:\n",
        "1. Узнали, как масштабировать данные\n",
        "2. Поэкспериментировали с двумя моделями\n",
        "3. Написали свой класс для нормализации данных\n",
        "4. Написали свой класс для стандартизации данных"
      ],
      "metadata": {
        "id": "90yF4nWV9Y-j"
      }
    },
    {
      "cell_type": "markdown",
      "source": [
        "## Резюме \n",
        "\n",
        "Сегодня на практическом занятии:\n",
        "1. Узнали, как масштабировать данные\n",
        "2. Поэкспериментировали с двумя моделями\n",
        "3. Написали свой класс для нормализации данных\n",
        "4. Написали свой класс для стандартизации данных"
      ],
      "metadata": {
        "id": "VgBSMbZHhvbe"
      }
    },
    {
      "cell_type": "markdown",
      "source": [
        "**Муррр** ♥"
      ],
      "metadata": {
        "id": "GTJ1GuCMIhYi"
      }
    }
  ]
}