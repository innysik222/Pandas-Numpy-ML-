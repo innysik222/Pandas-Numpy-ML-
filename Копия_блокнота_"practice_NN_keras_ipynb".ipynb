{
  "nbformat": 4,
  "nbformat_minor": 0,
  "metadata": {
    "colab": {
      "name": "Копия блокнота \"practice.NN_keras.ipynb\"",
      "provenance": [],
      "collapsed_sections": [],
      "toc_visible": true,
      "include_colab_link": true
    },
    "kernelspec": {
      "name": "python3",
      "display_name": "Python 3"
    },
    "language_info": {
      "name": "python"
    }
  },
  "cells": [
    {
      "cell_type": "markdown",
      "metadata": {
        "id": "view-in-github",
        "colab_type": "text"
      },
      "source": [
        "<a href=\"https://colab.research.google.com/github/innysik222/Pandas-Numpy-ML-/blob/main/%D0%9A%D0%BE%D0%BF%D0%B8%D1%8F_%D0%B1%D0%BB%D0%BE%D0%BA%D0%BD%D0%BE%D1%82%D0%B0_%22practice_NN_keras_ipynb%22.ipynb\" target=\"_parent\"><img src=\"https://colab.research.google.com/assets/colab-badge.svg\" alt=\"Open In Colab\"/></a>"
      ]
    },
    {
      "cell_type": "markdown",
      "source": [
        "# Первая нейросеть на Keras\n"
      ],
      "metadata": {
        "id": "YENBrjbPiQwC"
      }
    },
    {
      "cell_type": "markdown",
      "source": [
        "## Сегодня на практическом занятии:\n",
        "\n",
        "1. Обучим нейросеть на Keras для задачи регрессии (california housing)\n",
        "2. Подготовим изображения к обучению нейросети\n",
        "3. Обучим нейросеть на Keras для задачи классификации (MNIST)\n",
        "4. Обучим нейросеть на Keras для задачи восстановления изображений"
      ],
      "metadata": {
        "id": "D01f4B0GiNGC"
      }
    },
    {
      "cell_type": "markdown",
      "source": [
        "## Нейросеть для California housing"
      ],
      "metadata": {
        "id": "hfKwW-lVTQC1"
      }
    },
    {
      "cell_type": "markdown",
      "metadata": {
        "id": "3LkrhFC8QvOq"
      },
      "source": [
        "Будем работать с набором данным `fetch_california_housing` из `sklearn`."
      ]
    },
    {
      "cell_type": "code",
      "source": [
        "from sklearn.datasets import fetch_california_housing\n",
        "import pandas as pd\n",
        "\n",
        "\n",
        "data = fetch_california_housing()\n",
        "\n",
        "X = pd.DataFrame(data['data'], columns=data['feature_names'])\n",
        "y = data['target']\n",
        "\n",
        "X.head()"
      ],
      "metadata": {
        "colab": {
          "base_uri": "https://localhost:8080/",
          "height": 250
        },
        "outputId": "0be88b5b-6ee9-4ffc-eadc-edb1df4a4854",
        "id": "pDEf_L-lQvPA"
      },
      "execution_count": null,
      "outputs": [
        {
          "output_type": "execute_result",
          "data": {
            "text/plain": [
              "   MedInc  HouseAge  AveRooms  AveBedrms  Population  AveOccup  Latitude  \\\n",
              "0  8.3252      41.0  6.984127   1.023810       322.0  2.555556     37.88   \n",
              "1  8.3014      21.0  6.238137   0.971880      2401.0  2.109842     37.86   \n",
              "2  7.2574      52.0  8.288136   1.073446       496.0  2.802260     37.85   \n",
              "3  5.6431      52.0  5.817352   1.073059       558.0  2.547945     37.85   \n",
              "4  3.8462      52.0  6.281853   1.081081       565.0  2.181467     37.85   \n",
              "\n",
              "   Longitude  \n",
              "0    -122.23  \n",
              "1    -122.22  \n",
              "2    -122.24  \n",
              "3    -122.25  \n",
              "4    -122.25  "
            ],
            "text/html": [
              "\n",
              "  <div id=\"df-a40df045-eadf-43ff-a13b-2b873044a3e7\">\n",
              "    <div class=\"colab-df-container\">\n",
              "      <div>\n",
              "<style scoped>\n",
              "    .dataframe tbody tr th:only-of-type {\n",
              "        vertical-align: middle;\n",
              "    }\n",
              "\n",
              "    .dataframe tbody tr th {\n",
              "        vertical-align: top;\n",
              "    }\n",
              "\n",
              "    .dataframe thead th {\n",
              "        text-align: right;\n",
              "    }\n",
              "</style>\n",
              "<table border=\"1\" class=\"dataframe\">\n",
              "  <thead>\n",
              "    <tr style=\"text-align: right;\">\n",
              "      <th></th>\n",
              "      <th>MedInc</th>\n",
              "      <th>HouseAge</th>\n",
              "      <th>AveRooms</th>\n",
              "      <th>AveBedrms</th>\n",
              "      <th>Population</th>\n",
              "      <th>AveOccup</th>\n",
              "      <th>Latitude</th>\n",
              "      <th>Longitude</th>\n",
              "    </tr>\n",
              "  </thead>\n",
              "  <tbody>\n",
              "    <tr>\n",
              "      <th>0</th>\n",
              "      <td>8.3252</td>\n",
              "      <td>41.0</td>\n",
              "      <td>6.984127</td>\n",
              "      <td>1.023810</td>\n",
              "      <td>322.0</td>\n",
              "      <td>2.555556</td>\n",
              "      <td>37.88</td>\n",
              "      <td>-122.23</td>\n",
              "    </tr>\n",
              "    <tr>\n",
              "      <th>1</th>\n",
              "      <td>8.3014</td>\n",
              "      <td>21.0</td>\n",
              "      <td>6.238137</td>\n",
              "      <td>0.971880</td>\n",
              "      <td>2401.0</td>\n",
              "      <td>2.109842</td>\n",
              "      <td>37.86</td>\n",
              "      <td>-122.22</td>\n",
              "    </tr>\n",
              "    <tr>\n",
              "      <th>2</th>\n",
              "      <td>7.2574</td>\n",
              "      <td>52.0</td>\n",
              "      <td>8.288136</td>\n",
              "      <td>1.073446</td>\n",
              "      <td>496.0</td>\n",
              "      <td>2.802260</td>\n",
              "      <td>37.85</td>\n",
              "      <td>-122.24</td>\n",
              "    </tr>\n",
              "    <tr>\n",
              "      <th>3</th>\n",
              "      <td>5.6431</td>\n",
              "      <td>52.0</td>\n",
              "      <td>5.817352</td>\n",
              "      <td>1.073059</td>\n",
              "      <td>558.0</td>\n",
              "      <td>2.547945</td>\n",
              "      <td>37.85</td>\n",
              "      <td>-122.25</td>\n",
              "    </tr>\n",
              "    <tr>\n",
              "      <th>4</th>\n",
              "      <td>3.8462</td>\n",
              "      <td>52.0</td>\n",
              "      <td>6.281853</td>\n",
              "      <td>1.081081</td>\n",
              "      <td>565.0</td>\n",
              "      <td>2.181467</td>\n",
              "      <td>37.85</td>\n",
              "      <td>-122.25</td>\n",
              "    </tr>\n",
              "  </tbody>\n",
              "</table>\n",
              "</div>\n",
              "      <button class=\"colab-df-convert\" onclick=\"convertToInteractive('df-a40df045-eadf-43ff-a13b-2b873044a3e7')\"\n",
              "              title=\"Convert this dataframe to an interactive table.\"\n",
              "              style=\"display:none;\">\n",
              "        \n",
              "  <svg xmlns=\"http://www.w3.org/2000/svg\" height=\"24px\"viewBox=\"0 0 24 24\"\n",
              "       width=\"24px\">\n",
              "    <path d=\"M0 0h24v24H0V0z\" fill=\"none\"/>\n",
              "    <path d=\"M18.56 5.44l.94 2.06.94-2.06 2.06-.94-2.06-.94-.94-2.06-.94 2.06-2.06.94zm-11 1L8.5 8.5l.94-2.06 2.06-.94-2.06-.94L8.5 2.5l-.94 2.06-2.06.94zm10 10l.94 2.06.94-2.06 2.06-.94-2.06-.94-.94-2.06-.94 2.06-2.06.94z\"/><path d=\"M17.41 7.96l-1.37-1.37c-.4-.4-.92-.59-1.43-.59-.52 0-1.04.2-1.43.59L10.3 9.45l-7.72 7.72c-.78.78-.78 2.05 0 2.83L4 21.41c.39.39.9.59 1.41.59.51 0 1.02-.2 1.41-.59l7.78-7.78 2.81-2.81c.8-.78.8-2.07 0-2.86zM5.41 20L4 18.59l7.72-7.72 1.47 1.35L5.41 20z\"/>\n",
              "  </svg>\n",
              "      </button>\n",
              "      \n",
              "  <style>\n",
              "    .colab-df-container {\n",
              "      display:flex;\n",
              "      flex-wrap:wrap;\n",
              "      gap: 12px;\n",
              "    }\n",
              "\n",
              "    .colab-df-convert {\n",
              "      background-color: #E8F0FE;\n",
              "      border: none;\n",
              "      border-radius: 50%;\n",
              "      cursor: pointer;\n",
              "      display: none;\n",
              "      fill: #1967D2;\n",
              "      height: 32px;\n",
              "      padding: 0 0 0 0;\n",
              "      width: 32px;\n",
              "    }\n",
              "\n",
              "    .colab-df-convert:hover {\n",
              "      background-color: #E2EBFA;\n",
              "      box-shadow: 0px 1px 2px rgba(60, 64, 67, 0.3), 0px 1px 3px 1px rgba(60, 64, 67, 0.15);\n",
              "      fill: #174EA6;\n",
              "    }\n",
              "\n",
              "    [theme=dark] .colab-df-convert {\n",
              "      background-color: #3B4455;\n",
              "      fill: #D2E3FC;\n",
              "    }\n",
              "\n",
              "    [theme=dark] .colab-df-convert:hover {\n",
              "      background-color: #434B5C;\n",
              "      box-shadow: 0px 1px 3px 1px rgba(0, 0, 0, 0.15);\n",
              "      filter: drop-shadow(0px 1px 2px rgba(0, 0, 0, 0.3));\n",
              "      fill: #FFFFFF;\n",
              "    }\n",
              "  </style>\n",
              "\n",
              "      <script>\n",
              "        const buttonEl =\n",
              "          document.querySelector('#df-a40df045-eadf-43ff-a13b-2b873044a3e7 button.colab-df-convert');\n",
              "        buttonEl.style.display =\n",
              "          google.colab.kernel.accessAllowed ? 'block' : 'none';\n",
              "\n",
              "        async function convertToInteractive(key) {\n",
              "          const element = document.querySelector('#df-a40df045-eadf-43ff-a13b-2b873044a3e7');\n",
              "          const dataTable =\n",
              "            await google.colab.kernel.invokeFunction('convertToInteractive',\n",
              "                                                     [key], {});\n",
              "          if (!dataTable) return;\n",
              "\n",
              "          const docLinkHtml = 'Like what you see? Visit the ' +\n",
              "            '<a target=\"_blank\" href=https://colab.research.google.com/notebooks/data_table.ipynb>data table notebook</a>'\n",
              "            + ' to learn more about interactive tables.';\n",
              "          element.innerHTML = '';\n",
              "          dataTable['output_type'] = 'display_data';\n",
              "          await google.colab.output.renderOutput(dataTable, element);\n",
              "          const docLink = document.createElement('div');\n",
              "          docLink.innerHTML = docLinkHtml;\n",
              "          element.appendChild(docLink);\n",
              "        }\n",
              "      </script>\n",
              "    </div>\n",
              "  </div>\n",
              "  "
            ]
          },
          "metadata": {},
          "execution_count": 114
        }
      ]
    },
    {
      "cell_type": "code",
      "source": [
        "y"
      ],
      "metadata": {
        "colab": {
          "base_uri": "https://localhost:8080/"
        },
        "outputId": "cb14f560-912b-4797-937a-d4fc6218ebf2",
        "id": "qGlJz8tWQvPC"
      },
      "execution_count": null,
      "outputs": [
        {
          "output_type": "execute_result",
          "data": {
            "text/plain": [
              "array([4.526, 3.585, 3.521, ..., 0.923, 0.847, 0.894])"
            ]
          },
          "metadata": {},
          "execution_count": 115
        }
      ]
    },
    {
      "cell_type": "markdown",
      "source": [
        "#### 1.1. Разбейте данные на обучение и тест"
      ],
      "metadata": {
        "id": "fkRGiXVZTudB"
      }
    },
    {
      "cell_type": "code",
      "source": [
        "# Ваш код здесь\n",
        "\n",
        "from sklearn.model_selection import train_test_split\n",
        "X_train,X_test,y_train, y_test=train_test_split(X,y, random_state=10,test_size=0.2)"
      ],
      "metadata": {
        "id": "0Kr_m64uTudB"
      },
      "execution_count": null,
      "outputs": []
    },
    {
      "cell_type": "code",
      "source": [
        "from sklearn.preprocessing import MinMaxScaler\n",
        "mms=MinMaxScaler()\n",
        "X_norm=mms.fit_transform(X_train)"
      ],
      "metadata": {
        "id": "cDUgsE_O8OLf"
      },
      "execution_count": null,
      "outputs": []
    },
    {
      "cell_type": "markdown",
      "source": [
        "#### 1.2. Создайте архитектуру для этой задачи"
      ],
      "metadata": {
        "id": "815ut8JJTIM7"
      }
    },
    {
      "cell_type": "code",
      "source": [
        "# Ваш код здесь\n",
        "from keras.layers import Dense\n",
        "from keras.models import Sequential\n",
        "model=Sequential([Dense(16,input_shape=(8,),activation='relu'),\n",
        "                  Dense(8, activation='relu'),\n",
        "                  Dense(1, activation='relu')\n",
        "])\n",
        "model.summary()"
      ],
      "metadata": {
        "id": "OtEKBEAXTVmN",
        "colab": {
          "base_uri": "https://localhost:8080/"
        },
        "outputId": "d04cf24b-d0b8-4c9e-8c78-0a7ea474a9ba"
      },
      "execution_count": null,
      "outputs": [
        {
          "output_type": "stream",
          "name": "stdout",
          "text": [
            "Model: \"sequential_9\"\n",
            "_________________________________________________________________\n",
            " Layer (type)                Output Shape              Param #   \n",
            "=================================================================\n",
            " dense_17 (Dense)            (None, 16)                144       \n",
            "                                                                 \n",
            " dense_18 (Dense)            (None, 8)                 136       \n",
            "                                                                 \n",
            " dense_19 (Dense)            (None, 1)                 9         \n",
            "                                                                 \n",
            "=================================================================\n",
            "Total params: 289\n",
            "Trainable params: 289\n",
            "Non-trainable params: 0\n",
            "_________________________________________________________________\n"
          ]
        }
      ]
    },
    {
      "cell_type": "markdown",
      "source": [
        "#### 1.3. Скомпилируйте сеть\n",
        "\n",
        "Подберите нужную функцию потерь и метрику. Оптимизатор можете использовать 'sgd'"
      ],
      "metadata": {
        "id": "F9E1W4yCT0YC"
      }
    },
    {
      "cell_type": "code",
      "source": [
        "# Ваш код здесь\n",
        "model.compile(optimizer='sgd',loss='mse', metrics='mae')\n"
      ],
      "metadata": {
        "id": "S4ADrJaoTeZf"
      },
      "execution_count": null,
      "outputs": []
    },
    {
      "cell_type": "markdown",
      "source": [
        "#### 1.4. Обучите нейросеть\n",
        "\n",
        "Выберите нужное количество эпох.\n"
      ],
      "metadata": {
        "id": "ebac-dNAUBtX"
      }
    },
    {
      "cell_type": "code",
      "source": [
        "# Ваш код здесь\n",
        "model.fit(X_norm,y_train, epochs=20)\n"
      ],
      "metadata": {
        "id": "bGJAwEVPTf8b",
        "colab": {
          "base_uri": "https://localhost:8080/"
        },
        "outputId": "5b0d22aa-f710-4bdc-b353-24e1b51a805f"
      },
      "execution_count": null,
      "outputs": [
        {
          "output_type": "stream",
          "name": "stdout",
          "text": [
            "Epoch 1/20\n",
            "516/516 [==============================] - 1s 1ms/step - loss: 0.8539 - mae: 0.6978\n",
            "Epoch 2/20\n",
            "516/516 [==============================] - 1s 1ms/step - loss: 0.5668 - mae: 0.5562\n",
            "Epoch 3/20\n",
            "516/516 [==============================] - 1s 1ms/step - loss: 0.5413 - mae: 0.5391\n",
            "Epoch 4/20\n",
            "516/516 [==============================] - 1s 1ms/step - loss: 0.5236 - mae: 0.5286\n",
            "Epoch 5/20\n",
            "516/516 [==============================] - 1s 1ms/step - loss: 0.5139 - mae: 0.5218\n",
            "Epoch 6/20\n",
            "516/516 [==============================] - 1s 1ms/step - loss: 0.5049 - mae: 0.5171\n",
            "Epoch 7/20\n",
            "516/516 [==============================] - 1s 1ms/step - loss: 0.4994 - mae: 0.5143\n",
            "Epoch 8/20\n",
            "516/516 [==============================] - 1s 1ms/step - loss: 0.4946 - mae: 0.5110\n",
            "Epoch 9/20\n",
            "516/516 [==============================] - 1s 1ms/step - loss: 0.4900 - mae: 0.5082\n",
            "Epoch 10/20\n",
            "516/516 [==============================] - 1s 1ms/step - loss: 0.4890 - mae: 0.5070\n",
            "Epoch 11/20\n",
            "516/516 [==============================] - 1s 1ms/step - loss: 0.4871 - mae: 0.5059\n",
            "Epoch 12/20\n",
            "516/516 [==============================] - 1s 1ms/step - loss: 0.4842 - mae: 0.5028\n",
            "Epoch 13/20\n",
            "516/516 [==============================] - 1s 1ms/step - loss: 0.4807 - mae: 0.5009\n",
            "Epoch 14/20\n",
            "516/516 [==============================] - 1s 1ms/step - loss: 0.4816 - mae: 0.5016\n",
            "Epoch 15/20\n",
            "516/516 [==============================] - 1s 1ms/step - loss: 0.4796 - mae: 0.4999\n",
            "Epoch 16/20\n",
            "516/516 [==============================] - 1s 1ms/step - loss: 0.4779 - mae: 0.4975\n",
            "Epoch 17/20\n",
            "516/516 [==============================] - 1s 1ms/step - loss: 0.4766 - mae: 0.4978\n",
            "Epoch 18/20\n",
            "516/516 [==============================] - 1s 1ms/step - loss: 0.4774 - mae: 0.4975\n",
            "Epoch 19/20\n",
            "516/516 [==============================] - 1s 1ms/step - loss: 0.4774 - mae: 0.4966\n",
            "Epoch 20/20\n",
            "516/516 [==============================] - 1s 1ms/step - loss: 0.4732 - mae: 0.4945\n"
          ]
        },
        {
          "output_type": "execute_result",
          "data": {
            "text/plain": [
              "<keras.callbacks.History at 0x7fb0c32fe410>"
            ]
          },
          "metadata": {},
          "execution_count": 120
        }
      ]
    },
    {
      "cell_type": "markdown",
      "source": [
        "#### 1.5. Сделайте вывод, хорошо ли модель обучается?\n",
        "\n",
        "Если модель обучается плохо, можете внести изменения в работу."
      ],
      "metadata": {
        "id": "EZaZYI7jULuL"
      }
    },
    {
      "cell_type": "code",
      "source": [
        "# Ваш вывод здесь\n"
      ],
      "metadata": {
        "id": "TwzVMr7jUasa"
      },
      "execution_count": null,
      "outputs": []
    },
    {
      "cell_type": "markdown",
      "source": [
        "#### 1.6. Сделайте предсказания на тестовых данных"
      ],
      "metadata": {
        "id": "mvlGXR3yVMYo"
      }
    },
    {
      "cell_type": "code",
      "source": [
        "# Ваш код здесь\n",
        "X_test=mms.transform(X_test)\n",
        "preds_test=model.predict(X_test)\n",
        "preds_train=model.predict(X_norm)\n",
        "preds_test\n",
        "\n"
      ],
      "metadata": {
        "id": "gW7-vtIsVPdV",
        "colab": {
          "base_uri": "https://localhost:8080/"
        },
        "outputId": "f0d0039c-ada3-4491-8208-9ee543e14510"
      },
      "execution_count": null,
      "outputs": [
        {
          "output_type": "execute_result",
          "data": {
            "text/plain": [
              "array([[3.1133776],\n",
              "       [2.4603775],\n",
              "       [2.133875 ],\n",
              "       ...,\n",
              "       [2.2004156],\n",
              "       [1.0713911],\n",
              "       [4.1935177]], dtype=float32)"
            ]
          },
          "metadata": {},
          "execution_count": 122
        }
      ]
    },
    {
      "cell_type": "code",
      "source": [
        "import pandas as pd\n",
        "import numpy as np\n",
        "pd.DataFrame({'true': np.squeeze(y_test),\n",
        "              'test_predict': np.squeeze(preds_test)\n",
        "              \n",
        "    \n",
        "})"
      ],
      "metadata": {
        "colab": {
          "base_uri": "https://localhost:8080/",
          "height": 424
        },
        "id": "WOhlLqw2OWsR",
        "outputId": "d3b119aa-376d-4fb6-8dfb-d5338877c167"
      },
      "execution_count": null,
      "outputs": [
        {
          "output_type": "execute_result",
          "data": {
            "text/plain": [
              "         true  test_predict\n",
              "0     1.67400      3.113378\n",
              "1     3.54100      2.460377\n",
              "2     1.60200      2.133875\n",
              "3     1.40800      1.559944\n",
              "4     1.07800      1.668101\n",
              "...       ...           ...\n",
              "4123  1.06300      1.246734\n",
              "4124  3.93700      3.275783\n",
              "4125  1.31300      2.200416\n",
              "4126  0.92300      1.071391\n",
              "4127  5.00001      4.193518\n",
              "\n",
              "[4128 rows x 2 columns]"
            ],
            "text/html": [
              "\n",
              "  <div id=\"df-b878e8ac-ca30-4c15-9fd9-efbad63edc97\">\n",
              "    <div class=\"colab-df-container\">\n",
              "      <div>\n",
              "<style scoped>\n",
              "    .dataframe tbody tr th:only-of-type {\n",
              "        vertical-align: middle;\n",
              "    }\n",
              "\n",
              "    .dataframe tbody tr th {\n",
              "        vertical-align: top;\n",
              "    }\n",
              "\n",
              "    .dataframe thead th {\n",
              "        text-align: right;\n",
              "    }\n",
              "</style>\n",
              "<table border=\"1\" class=\"dataframe\">\n",
              "  <thead>\n",
              "    <tr style=\"text-align: right;\">\n",
              "      <th></th>\n",
              "      <th>true</th>\n",
              "      <th>test_predict</th>\n",
              "    </tr>\n",
              "  </thead>\n",
              "  <tbody>\n",
              "    <tr>\n",
              "      <th>0</th>\n",
              "      <td>1.67400</td>\n",
              "      <td>3.113378</td>\n",
              "    </tr>\n",
              "    <tr>\n",
              "      <th>1</th>\n",
              "      <td>3.54100</td>\n",
              "      <td>2.460377</td>\n",
              "    </tr>\n",
              "    <tr>\n",
              "      <th>2</th>\n",
              "      <td>1.60200</td>\n",
              "      <td>2.133875</td>\n",
              "    </tr>\n",
              "    <tr>\n",
              "      <th>3</th>\n",
              "      <td>1.40800</td>\n",
              "      <td>1.559944</td>\n",
              "    </tr>\n",
              "    <tr>\n",
              "      <th>4</th>\n",
              "      <td>1.07800</td>\n",
              "      <td>1.668101</td>\n",
              "    </tr>\n",
              "    <tr>\n",
              "      <th>...</th>\n",
              "      <td>...</td>\n",
              "      <td>...</td>\n",
              "    </tr>\n",
              "    <tr>\n",
              "      <th>4123</th>\n",
              "      <td>1.06300</td>\n",
              "      <td>1.246734</td>\n",
              "    </tr>\n",
              "    <tr>\n",
              "      <th>4124</th>\n",
              "      <td>3.93700</td>\n",
              "      <td>3.275783</td>\n",
              "    </tr>\n",
              "    <tr>\n",
              "      <th>4125</th>\n",
              "      <td>1.31300</td>\n",
              "      <td>2.200416</td>\n",
              "    </tr>\n",
              "    <tr>\n",
              "      <th>4126</th>\n",
              "      <td>0.92300</td>\n",
              "      <td>1.071391</td>\n",
              "    </tr>\n",
              "    <tr>\n",
              "      <th>4127</th>\n",
              "      <td>5.00001</td>\n",
              "      <td>4.193518</td>\n",
              "    </tr>\n",
              "  </tbody>\n",
              "</table>\n",
              "<p>4128 rows × 2 columns</p>\n",
              "</div>\n",
              "      <button class=\"colab-df-convert\" onclick=\"convertToInteractive('df-b878e8ac-ca30-4c15-9fd9-efbad63edc97')\"\n",
              "              title=\"Convert this dataframe to an interactive table.\"\n",
              "              style=\"display:none;\">\n",
              "        \n",
              "  <svg xmlns=\"http://www.w3.org/2000/svg\" height=\"24px\"viewBox=\"0 0 24 24\"\n",
              "       width=\"24px\">\n",
              "    <path d=\"M0 0h24v24H0V0z\" fill=\"none\"/>\n",
              "    <path d=\"M18.56 5.44l.94 2.06.94-2.06 2.06-.94-2.06-.94-.94-2.06-.94 2.06-2.06.94zm-11 1L8.5 8.5l.94-2.06 2.06-.94-2.06-.94L8.5 2.5l-.94 2.06-2.06.94zm10 10l.94 2.06.94-2.06 2.06-.94-2.06-.94-.94-2.06-.94 2.06-2.06.94z\"/><path d=\"M17.41 7.96l-1.37-1.37c-.4-.4-.92-.59-1.43-.59-.52 0-1.04.2-1.43.59L10.3 9.45l-7.72 7.72c-.78.78-.78 2.05 0 2.83L4 21.41c.39.39.9.59 1.41.59.51 0 1.02-.2 1.41-.59l7.78-7.78 2.81-2.81c.8-.78.8-2.07 0-2.86zM5.41 20L4 18.59l7.72-7.72 1.47 1.35L5.41 20z\"/>\n",
              "  </svg>\n",
              "      </button>\n",
              "      \n",
              "  <style>\n",
              "    .colab-df-container {\n",
              "      display:flex;\n",
              "      flex-wrap:wrap;\n",
              "      gap: 12px;\n",
              "    }\n",
              "\n",
              "    .colab-df-convert {\n",
              "      background-color: #E8F0FE;\n",
              "      border: none;\n",
              "      border-radius: 50%;\n",
              "      cursor: pointer;\n",
              "      display: none;\n",
              "      fill: #1967D2;\n",
              "      height: 32px;\n",
              "      padding: 0 0 0 0;\n",
              "      width: 32px;\n",
              "    }\n",
              "\n",
              "    .colab-df-convert:hover {\n",
              "      background-color: #E2EBFA;\n",
              "      box-shadow: 0px 1px 2px rgba(60, 64, 67, 0.3), 0px 1px 3px 1px rgba(60, 64, 67, 0.15);\n",
              "      fill: #174EA6;\n",
              "    }\n",
              "\n",
              "    [theme=dark] .colab-df-convert {\n",
              "      background-color: #3B4455;\n",
              "      fill: #D2E3FC;\n",
              "    }\n",
              "\n",
              "    [theme=dark] .colab-df-convert:hover {\n",
              "      background-color: #434B5C;\n",
              "      box-shadow: 0px 1px 3px 1px rgba(0, 0, 0, 0.15);\n",
              "      filter: drop-shadow(0px 1px 2px rgba(0, 0, 0, 0.3));\n",
              "      fill: #FFFFFF;\n",
              "    }\n",
              "  </style>\n",
              "\n",
              "      <script>\n",
              "        const buttonEl =\n",
              "          document.querySelector('#df-b878e8ac-ca30-4c15-9fd9-efbad63edc97 button.colab-df-convert');\n",
              "        buttonEl.style.display =\n",
              "          google.colab.kernel.accessAllowed ? 'block' : 'none';\n",
              "\n",
              "        async function convertToInteractive(key) {\n",
              "          const element = document.querySelector('#df-b878e8ac-ca30-4c15-9fd9-efbad63edc97');\n",
              "          const dataTable =\n",
              "            await google.colab.kernel.invokeFunction('convertToInteractive',\n",
              "                                                     [key], {});\n",
              "          if (!dataTable) return;\n",
              "\n",
              "          const docLinkHtml = 'Like what you see? Visit the ' +\n",
              "            '<a target=\"_blank\" href=https://colab.research.google.com/notebooks/data_table.ipynb>data table notebook</a>'\n",
              "            + ' to learn more about interactive tables.';\n",
              "          element.innerHTML = '';\n",
              "          dataTable['output_type'] = 'display_data';\n",
              "          await google.colab.output.renderOutput(dataTable, element);\n",
              "          const docLink = document.createElement('div');\n",
              "          docLink.innerHTML = docLinkHtml;\n",
              "          element.appendChild(docLink);\n",
              "        }\n",
              "      </script>\n",
              "    </div>\n",
              "  </div>\n",
              "  "
            ]
          },
          "metadata": {},
          "execution_count": 123
        }
      ]
    },
    {
      "cell_type": "markdown",
      "source": [
        "#### 1.7. Посчитайте метрику качества на тестовых данных\n",
        "\n",
        "Доп информация по метрикам [здесь](https://youtu.be/vh2smjQyhp8)"
      ],
      "metadata": {
        "id": "NLsmmLVkVhkL"
      }
    },
    {
      "cell_type": "code",
      "source": [
        "# Ваш код здесь\n",
        "from sklearn.metrics import mean_absolute_error\n",
        "mean_absolute_error(preds_test, y_test)\n"
      ],
      "metadata": {
        "id": "SEu1V0AmVTUr",
        "colab": {
          "base_uri": "https://localhost:8080/"
        },
        "outputId": "d3daa3f1-9ff0-4826-a8b1-a26db41dc965"
      },
      "execution_count": null,
      "outputs": [
        {
          "output_type": "execute_result",
          "data": {
            "text/plain": [
              "0.4917692662044158"
            ]
          },
          "metadata": {},
          "execution_count": 124
        }
      ]
    },
    {
      "cell_type": "markdown",
      "source": [
        "## 2. Нейросеть для MNIST"
      ],
      "metadata": {
        "id": "z5hUjlFNKysJ"
      }
    },
    {
      "cell_type": "markdown",
      "metadata": {
        "id": "h7GSqp3eKysU"
      },
      "source": [
        "Будем работать с набором данных `MNIST` из `keras`."
      ]
    },
    {
      "cell_type": "code",
      "source": [
        "from keras.datasets import mnist\n",
        "\n",
        "(X_train, y_train), (X_test, y_test) = mnist.load_data()\n",
        "\n",
        "X_train.shape, X_test.shape"
      ],
      "metadata": {
        "colab": {
          "base_uri": "https://localhost:8080/"
        },
        "outputId": "281c6ae5-5208-4a8b-a449-4c116d44ef72",
        "id": "5SMNbUvZKysU"
      },
      "execution_count": null,
      "outputs": [
        {
          "output_type": "execute_result",
          "data": {
            "text/plain": [
              "((60000, 28, 28), (10000, 28, 28))"
            ]
          },
          "metadata": {},
          "execution_count": 125
        }
      ]
    },
    {
      "cell_type": "code",
      "source": [
        "X_train[1].shape"
      ],
      "metadata": {
        "colab": {
          "base_uri": "https://localhost:8080/"
        },
        "id": "7zwBERkwklh3",
        "outputId": "14005b10-4699-4e27-bc22-46a335aaa71c"
      },
      "execution_count": null,
      "outputs": [
        {
          "output_type": "execute_result",
          "data": {
            "text/plain": [
              "(28, 28)"
            ]
          },
          "metadata": {},
          "execution_count": 126
        }
      ]
    },
    {
      "cell_type": "markdown",
      "source": [
        "### 2.1. Отрисуйте несколько примеров из обучения"
      ],
      "metadata": {
        "id": "yKZInrc5LBSV"
      }
    },
    {
      "cell_type": "code",
      "source": [
        "# Ваш код здесь\n",
        "import matplotlib.pyplot as plt\n",
        "fig, ax = plt.subplots(1, 7, figsize=(15, 10))\n",
        "\n",
        "for i in range(7):\n",
        "    ax[i].imshow(X_train[i], cmap='gray')\n",
        "    ax[i].axis('off')"
      ],
      "metadata": {
        "id": "gKikMCPlLF__",
        "colab": {
          "base_uri": "https://localhost:8080/",
          "height": 108
        },
        "outputId": "d5ac2b24-b8ba-49b1-f2bd-4c66d37c2776"
      },
      "execution_count": null,
      "outputs": [
        {
          "output_type": "display_data",
          "data": {
            "text/plain": [
              "<Figure size 1080x720 with 7 Axes>"
            ],
            "image/png": "[encoded data removed]"
          },
          "metadata": {
            "needs_background": "light"
          }
        }
      ]
    },
    {
      "cell_type": "markdown",
      "source": [
        "### 2.2. Подготовка данных"
      ],
      "metadata": {
        "id": "Uqafao750wfc"
      }
    },
    {
      "cell_type": "markdown",
      "source": [
        "#### 2.2.1. Возьмите для обучения только два класса (3 и 8), чтобы сделать задачу бинарной классификации."
      ],
      "metadata": {
        "id": "JKPYzs_-LUCs"
      }
    },
    {
      "cell_type": "code",
      "source": [
        "# Ваш код здесь\n",
        "idx=np.where((y_train==3)|(y_train==8))\n",
        "X_train=X_train[idx]\n",
        "y_train=y_train[idx]\n",
        "X_train.shape, y_train.shape"
      ],
      "metadata": {
        "id": "k-2c7wJ40UfB",
        "colab": {
          "base_uri": "https://localhost:8080/"
        },
        "outputId": "79b0d573-3cd3-412f-deda-412bdbe448af"
      },
      "execution_count": null,
      "outputs": [
        {
          "output_type": "execute_result",
          "data": {
            "text/plain": [
              "((11982, 28, 28), (11982,))"
            ]
          },
          "metadata": {},
          "execution_count": 128
        }
      ]
    },
    {
      "cell_type": "markdown",
      "source": [
        "#### 2.2.2. И тоже самое сделайте для теста"
      ],
      "metadata": {
        "id": "Uwfrh9Os0_TE"
      }
    },
    {
      "cell_type": "code",
      "source": [
        "# Ваш код здесь\n",
        "idx2=np.where((y_test==3)|(y_test==8))\n",
        "X_test=X_test[idx2]\n",
        "y_test=y_test[idx2]\n",
        "X_test.shape, y_test.shape\n",
        "\n"
      ],
      "metadata": {
        "id": "_aXF2MFw1Avv",
        "colab": {
          "base_uri": "https://localhost:8080/"
        },
        "outputId": "3fc3504a-fee3-4086-abcb-6e51d6620996"
      },
      "execution_count": null,
      "outputs": [
        {
          "output_type": "execute_result",
          "data": {
            "text/plain": [
              "((1984, 28, 28), (1984,))"
            ]
          },
          "metadata": {},
          "execution_count": 129
        }
      ]
    },
    {
      "cell_type": "markdown",
      "source": [
        "#### 2.2.3. Отрисуйте несколько изображений из новых данных\n"
      ],
      "metadata": {
        "id": "AHTXRcF5-jdc"
      }
    },
    {
      "cell_type": "code",
      "source": [
        "# Ваш код здесь\n",
        "fig, ax =plt.subplots(1,4,figsize=(15,10))\n",
        "for i in range(4):\n",
        "  ax[i].imshow(X_train[i],cmap='gray')\n"
      ],
      "metadata": {
        "id": "icacSfk21L7E",
        "colab": {
          "base_uri": "https://localhost:8080/",
          "height": 182
        },
        "outputId": "e04688ab-bde2-4e39-f8e1-66d54fa49131"
      },
      "execution_count": null,
      "outputs": [
        {
          "output_type": "display_data",
          "data": {
            "text/plain": [
              "<Figure size 1080x720 with 4 Axes>"
            ],
            "image/png": "[encoded data removed]"
          },
          "metadata": {
            "needs_background": "light"
          }
        }
      ]
    },
    {
      "cell_type": "code",
      "source": [
        "y_train[:5]"
      ],
      "metadata": {
        "colab": {
          "base_uri": "https://localhost:8080/"
        },
        "id": "ThiVhxz_uWPO",
        "outputId": "474522ca-6763-4699-846d-cab4289ff35d"
      },
      "execution_count": null,
      "outputs": [
        {
          "output_type": "execute_result",
          "data": {
            "text/plain": [
              "array([3, 3, 3, 8, 3], dtype=uint8)"
            ]
          },
          "metadata": {},
          "execution_count": 131
        }
      ]
    },
    {
      "cell_type": "markdown",
      "source": [
        "#### 2.2.4. Нормируйте данные"
      ],
      "metadata": {
        "id": "L-LuuDfrMSk7"
      }
    },
    {
      "cell_type": "code",
      "source": [
        "# Ваш код здесь\n",
        "X_train=X_train/255\n",
        "X_test=X_test/255\n"
      ],
      "metadata": {
        "id": "RADeSMbdrLf7"
      },
      "execution_count": null,
      "outputs": []
    },
    {
      "cell_type": "markdown",
      "source": [
        "#### 2.2.5. Преобразуйте целевые значения в бинарный вид\n",
        "\n",
        "При этом еще нужно вначале перевести класс 3 и 8 в 0 и 1, только при таких метках класса сетка будет обучаться правильно."
      ],
      "metadata": {
        "id": "9qweUxUsMWwp"
      }
    },
    {
      "cell_type": "code",
      "source": [
        "y_train[y_train == 3] = 0\n",
        "y_train[y_train == 8] = 1\n",
        "\n",
        "y_test[y_test == 3] = 0\n",
        "y_test[y_test == 8] = 1\n",
        "\n",
        "\n",
        "y_train\n",
        "\n",
        "from keras.utils.np_utils import to_categorical\n",
        "\n",
        "y_train_cat = to_categorical(y_train)\n",
        "y_test_cat = to_categorical(y_test)\n",
        "\n",
        "y_train[:5]"
      ],
      "metadata": {
        "id": "Cq3mHXUlP9tU",
        "colab": {
          "base_uri": "https://localhost:8080/"
        },
        "outputId": "02c9c9c5-7c01-40aa-c72a-9dec75f495a7"
      },
      "execution_count": null,
      "outputs": [
        {
          "output_type": "execute_result",
          "data": {
            "text/plain": [
              "array([0, 0, 0, 1, 0], dtype=uint8)"
            ]
          },
          "metadata": {},
          "execution_count": 133
        }
      ]
    },
    {
      "cell_type": "code",
      "source": [
        "# Ваш код здесь\n",
        "import tensorflow as tf\n",
        "X_train_resized = tf.image.resize(X_train[..., np.newaxis], (6, 6))[..., 0]\n",
        "X_test_resized = tf.image.resize(X_test[..., np.newaxis], (6, 6))[..., 0]\n",
        "\n",
        "fig, ax = plt.subplots(1, 5, figsize=(15, 10))\n",
        "\n",
        "for i in range(5):\n",
        "    ax[i].imshow(X_train_resized[i], cmap='gray')\n",
        "    ax[i].axis('off')"
      ],
      "metadata": {
        "id": "VtEYAHdF2ru5",
        "colab": {
          "base_uri": "https://localhost:8080/",
          "height": 141
        },
        "outputId": "3fe879de-06ff-4fa1-9ce7-e4adbe3c2639"
      },
      "execution_count": null,
      "outputs": [
        {
          "output_type": "display_data",
          "data": {
            "text/plain": [
              "<Figure size 1080x720 with 5 Axes>"
            ],
            "image/png": "[encoded data removed]"
          },
          "metadata": {
            "needs_background": "light"
          }
        }
      ]
    },
    {
      "cell_type": "code",
      "source": [
        "y_train_cat"
      ],
      "metadata": {
        "colab": {
          "base_uri": "https://localhost:8080/"
        },
        "id": "6GsJLpTmq3jJ",
        "outputId": "398af614-f156-48df-dd36-65476dace37d"
      },
      "execution_count": null,
      "outputs": [
        {
          "output_type": "execute_result",
          "data": {
            "text/plain": [
              "array([[1., 0.],\n",
              "       [1., 0.],\n",
              "       [1., 0.],\n",
              "       ...,\n",
              "       [0., 1.],\n",
              "       [1., 0.],\n",
              "       [0., 1.]], dtype=float32)"
            ]
          },
          "metadata": {},
          "execution_count": 135
        }
      ]
    },
    {
      "cell_type": "markdown",
      "source": [
        "### 2.3. Создайте архитектуру для этой задачи"
      ],
      "metadata": {
        "id": "7MlITp9zKysV"
      }
    },
    {
      "cell_type": "code",
      "source": [
        "# Ваш код здесь\n",
        "#X_train_resized[0].numpy().flatten()\n",
        "from keras.layers import Flatten\n",
        "tf.random.set_seed(9)\n",
        "\n",
        "model = Sequential([\n",
        "    Flatten(input_shape=(6, 6)),\n",
        "    Dense(2, activation='sigmoid')\n",
        "])\n",
        "\n",
        "#model = Sequential([\n",
        "    #Flatten(input_shape=(28, 28)),\n",
        "    #Dense(512, activation='relu'),\n",
        "    #Dense(128, activation='relu'),\n",
        "    #Dense(2, activation='sigmoid')\n",
        "#])\n",
        "\n",
        "model.summary()\n"
      ],
      "metadata": {
        "id": "x8SRlENdKysW",
        "colab": {
          "base_uri": "https://localhost:8080/"
        },
        "outputId": "6f0b7600-47da-4125-e346-d7ad9ae1a7bc"
      },
      "execution_count": null,
      "outputs": [
        {
          "output_type": "stream",
          "name": "stdout",
          "text": [
            "Model: \"sequential_10\"\n",
            "_________________________________________________________________\n",
            " Layer (type)                Output Shape              Param #   \n",
            "=================================================================\n",
            " flatten_6 (Flatten)         (None, 36)                0         \n",
            "                                                                 \n",
            " dense_20 (Dense)            (None, 2)                 74        \n",
            "                                                                 \n",
            "=================================================================\n",
            "Total params: 74\n",
            "Trainable params: 74\n",
            "Non-trainable params: 0\n",
            "_________________________________________________________________\n"
          ]
        }
      ]
    },
    {
      "cell_type": "markdown",
      "source": [
        "### 2.4. Скомпилируйте сеть\n",
        "\n",
        "Подберите нужную функцию потерь и метрику. Оптимизатор можете использовать 'sgd'"
      ],
      "metadata": {
        "id": "wmUIOgMEKysW"
      }
    },
    {
      "cell_type": "code",
      "source": [
        "# Ваш код здесь\n",
        "model.compile(optimizer='sgd', loss='binary_crossentropy', metrics='accuracy')\n"
      ],
      "metadata": {
        "id": "b8pmOpKeKysW"
      },
      "execution_count": null,
      "outputs": []
    },
    {
      "cell_type": "markdown",
      "source": [
        ""
      ],
      "metadata": {
        "id": "gaDGbYxejYVr"
      }
    },
    {
      "cell_type": "markdown",
      "source": [
        "### 2.5. Обучите нейросеть\n",
        "\n",
        "Выберите нужное количество эпох.\n"
      ],
      "metadata": {
        "id": "0fMjmZ8GKysW"
      }
    },
    {
      "cell_type": "code",
      "source": [
        "# Ваш код здесь\n",
        "model.fit(X_train_resized, y_train_cat, epochs=10)"
      ],
      "metadata": {
        "id": "TQe6kSqlKysW",
        "colab": {
          "base_uri": "https://localhost:8080/"
        },
        "outputId": "4ee01beb-39d2-4854-a8b4-32cb17546195"
      },
      "execution_count": null,
      "outputs": [
        {
          "output_type": "stream",
          "name": "stdout",
          "text": [
            "Epoch 1/10\n",
            "375/375 [==============================] - 1s 3ms/step - loss: 0.5186 - accuracy: 0.8414\n",
            "Epoch 2/10\n",
            "375/375 [==============================] - 1s 2ms/step - loss: 0.4988 - accuracy: 0.8454\n",
            "Epoch 3/10\n",
            "375/375 [==============================] - 1s 2ms/step - loss: 0.4821 - accuracy: 0.8481\n",
            "Epoch 4/10\n",
            "375/375 [==============================] - 1s 2ms/step - loss: 0.4678 - accuracy: 0.8501\n",
            "Epoch 5/10\n",
            "375/375 [==============================] - 1s 3ms/step - loss: 0.4555 - accuracy: 0.8508\n",
            "Epoch 6/10\n",
            "375/375 [==============================] - 1s 2ms/step - loss: 0.4448 - accuracy: 0.8531\n",
            "Epoch 7/10\n",
            "375/375 [==============================] - 1s 2ms/step - loss: 0.4354 - accuracy: 0.8545\n",
            "Epoch 8/10\n",
            "375/375 [==============================] - 1s 3ms/step - loss: 0.4270 - accuracy: 0.8551\n",
            "Epoch 9/10\n",
            "375/375 [==============================] - 1s 2ms/step - loss: 0.4196 - accuracy: 0.8554\n",
            "Epoch 10/10\n",
            "375/375 [==============================] - 1s 2ms/step - loss: 0.4129 - accuracy: 0.8564\n"
          ]
        },
        {
          "output_type": "execute_result",
          "data": {
            "text/plain": [
              "<keras.callbacks.History at 0x7fb0c5a25f10>"
            ]
          },
          "metadata": {},
          "execution_count": 139
        }
      ]
    },
    {
      "cell_type": "markdown",
      "source": [
        "### 2.6. Сделайте предсказания на тестовых данных"
      ],
      "metadata": {
        "id": "KXuR0VjmKysX"
      }
    },
    {
      "cell_type": "code",
      "source": [
        "# Ваш код здесь\n",
        "pred=model.predict(X_test_resized)\n",
        "pred_cls=pred.argmax(axis=1)\n",
        "pred_cls\n"
      ],
      "metadata": {
        "id": "GFTgbSScKysX",
        "colab": {
          "base_uri": "https://localhost:8080/"
        },
        "outputId": "e994ebdb-e737-4902-b9f5-6ced16e81f64"
      },
      "execution_count": null,
      "outputs": [
        {
          "output_type": "execute_result",
          "data": {
            "text/plain": [
              "array([0, 0, 0, ..., 0, 1, 0])"
            ]
          },
          "metadata": {},
          "execution_count": 143
        }
      ]
    },
    {
      "cell_type": "markdown",
      "source": [
        "### 2.7. Посчитайте метрику качества на тестовых данных\n",
        "\n",
        "По метрикам можете повторить эти занятия по [ссылке](https://youtube.com/playlist?list=PLkJJmZ1EJno6CLyvD4DHc32Fed6cPBHje)"
      ],
      "metadata": {
        "id": "YDrkN9ASKysX"
      }
    },
    {
      "cell_type": "code",
      "source": [
        "# Ваш код здесь\n",
        "from sklearn.metrics import accuracy_score\n",
        "\n",
        "print(f'test acc: {accuracy_score(y_test, pred_cls)*100:.2f}% ({(y_test == pred_cls).sum()} out of {y_test.shape[0]})')\n"
      ],
      "metadata": {
        "id": "A0jsXcgRKysX",
        "colab": {
          "base_uri": "https://localhost:8080/"
        },
        "outputId": "2cf87df2-707e-4526-928e-04ccef42331b"
      },
      "execution_count": null,
      "outputs": [
        {
          "output_type": "stream",
          "name": "stdout",
          "text": [
            "test acc: 85.79% (1702 out of 1984)\n"
          ]
        }
      ]
    },
    {
      "cell_type": "markdown",
      "source": [
        "## 3. Нейросеть для восстановления изображения"
      ],
      "metadata": {
        "id": "T6mFtupL_xwP"
      }
    },
    {
      "cell_type": "markdown",
      "metadata": {
        "id": "PJVARGYG_xwQ"
      },
      "source": [
        "Будем работать с набором данным `fetch_olivetti_faces` из `sklearn`."
      ]
    },
    {
      "cell_type": "code",
      "source": [
        "from sklearn.datasets import fetch_olivetti_faces\n",
        "from sklearn.model_selection import train_test_split\n",
        "\n",
        "data, _ = fetch_olivetti_faces(return_X_y=True)\n",
        "train, test = train_test_split(data, test_size=0.2, random_state=4)"
      ],
      "metadata": {
        "id": "uWD9ztJr_xwQ",
        "colab": {
          "base_uri": "https://localhost:8080/"
        },
        "outputId": "419348b4-ce48-4fee-d5c3-544a214b58bb"
      },
      "execution_count": null,
      "outputs": [
        {
          "output_type": "stream",
          "name": "stdout",
          "text": [
            "downloading Olivetti faces from https://ndownloader.figshare.com/files/5976027 to /root/scikit_learn_data\n"
          ]
        }
      ]
    },
    {
      "cell_type": "code",
      "source": [
        "train.shape"
      ],
      "metadata": {
        "id": "BweSEFYmX8df",
        "colab": {
          "base_uri": "https://localhost:8080/"
        },
        "outputId": "7cb76825-3f9f-414e-b599-7c6baf01486b"
      },
      "execution_count": null,
      "outputs": [
        {
          "output_type": "execute_result",
          "data": {
            "text/plain": [
              "(320, 4096)"
            ]
          },
          "metadata": {},
          "execution_count": 147
        }
      ]
    },
    {
      "cell_type": "markdown",
      "source": [
        "Сейчас изображение - это вектор 4096."
      ],
      "metadata": {
        "id": "cFHMUzpMXzNH"
      }
    },
    {
      "cell_type": "markdown",
      "source": [
        "### 3.1. Работа с данными"
      ],
      "metadata": {
        "id": "Rr7OISUBKMvp"
      }
    },
    {
      "cell_type": "markdown",
      "source": [
        "#### 3.1.1. Переведите векторы в настоящие изображения из двух размерностей"
      ],
      "metadata": {
        "id": "kl-BK6WjX-Fc"
      }
    },
    {
      "cell_type": "code",
      "source": [
        "# Ваш код здесь\n",
        "train=train.reshape((train.shape[0],64,64))\n",
        "test=test.reshape((test.shape[0],64,64))\n",
        "train.shape\n"
      ],
      "metadata": {
        "id": "_ku9ipjhX6CB",
        "colab": {
          "base_uri": "https://localhost:8080/"
        },
        "outputId": "d40909ee-cda1-4dc5-b8b4-ed3c0b8851df"
      },
      "execution_count": null,
      "outputs": [
        {
          "output_type": "execute_result",
          "data": {
            "text/plain": [
              "(320, 64, 64)"
            ]
          },
          "metadata": {},
          "execution_count": 149
        }
      ]
    },
    {
      "cell_type": "markdown",
      "source": [
        "#### 3.1.2. Отрисуйте несколько примеров"
      ],
      "metadata": {
        "id": "8Vrbf_SYYEaM"
      }
    },
    {
      "cell_type": "code",
      "source": [
        "# Ваш код здесь\n",
        "fig,ax=plt.subplots(1,5,figsize=(15,10))\n",
        "for i in range(5):\n",
        "  ax[i].imshow(train[i])\n"
      ],
      "metadata": {
        "id": "OiUzTMu2Ymqo",
        "colab": {
          "base_uri": "https://localhost:8080/",
          "height": 154
        },
        "outputId": "63ece529-74b0-4d7b-a0fd-bd41206535c1"
      },
      "execution_count": null,
      "outputs": [
        {
          "output_type": "display_data",
          "data": {
            "text/plain": [
              "<Figure size 1080x720 with 5 Axes>"
            ],
            "image/png": "[encoded data removed]"
          },
          "metadata": {
            "needs_background": "light"
          }
        }
      ]
    },
    {
      "cell_type": "markdown",
      "source": [
        "Поделим данные на X и y, где X - это верхняя часть лица человека, на этом модель будет обучаться, а y - это нижняя часть лица человека - её будем предсказывать."
      ],
      "metadata": {
        "id": "MDbWz6kIDIdq"
      }
    },
    {
      "cell_type": "code",
      "source": [
        "n_pixels = train.shape[1]\n",
        "\n",
        "# Upper half of the faces\n",
        "X_train = train[:, :(n_pixels + 1) // 2, :]\n",
        "# Lower half of the faces\n",
        "y_train = train[:, n_pixels // 2:, :]\n",
        "\n",
        "\n",
        "X_test = test[:, :(n_pixels + 1) // 2, :]\n",
        "y_test = test[:, n_pixels // 2:, :]"
      ],
      "metadata": {
        "id": "0Y31rNs8AkHw"
      },
      "execution_count": null,
      "outputs": []
    },
    {
      "cell_type": "code",
      "source": [
        "X_train.shape"
      ],
      "metadata": {
        "id": "Gn8OgMu5Znnh",
        "colab": {
          "base_uri": "https://localhost:8080/"
        },
        "outputId": "974184b3-a92c-45a0-f8cc-7a720455b31c"
      },
      "execution_count": null,
      "outputs": [
        {
          "output_type": "execute_result",
          "data": {
            "text/plain": [
              "(320, 32, 64)"
            ]
          },
          "metadata": {},
          "execution_count": 154
        }
      ]
    },
    {
      "cell_type": "markdown",
      "source": [
        "Вот один пример обучающей пары."
      ],
      "metadata": {
        "id": "7q4nmYnMDTzY"
      }
    },
    {
      "cell_type": "code",
      "source": [
        "import matplotlib.pyplot as plt\n",
        "\n",
        "idx = 0\n",
        "\n",
        "fig, ax = plt.subplots(1, 2, figsize=(15, 8))\n",
        "ax[0].imshow(X_train[idx], cmap='gray')\n",
        "ax[0].set_title('X')\n",
        "ax[1].imshow(y_train[idx], cmap='gray')\n",
        "ax[1].set_title('y')\n",
        "ax[0].axis('off')\n",
        "ax[1].axis('off')\n",
        "\n",
        "plt.show()"
      ],
      "metadata": {
        "id": "GYpecml0_xwS",
        "colab": {
          "base_uri": "https://localhost:8080/",
          "height": 190
        },
        "outputId": "83c6e435-7621-41c2-8b33-5903f70181ef"
      },
      "execution_count": null,
      "outputs": [
        {
          "output_type": "display_data",
          "data": {
            "text/plain": [
              "<Figure size 1080x576 with 2 Axes>"
            ],
            "image/png": "[encoded data removed]"
          },
          "metadata": {
            "needs_background": "light"
          }
        }
      ]
    },
    {
      "cell_type": "markdown",
      "source": [
        "#### 3.1.3. Измените размерность y\n",
        "Остается только изменить размерность y, т.к. сейчас $y$ - картинка 32x64, а выход нейронной сети у нас будет одномерный и равный 32 * 64 = 2048. "
      ],
      "metadata": {
        "id": "-MQUIAGaeIaI"
      }
    },
    {
      "cell_type": "code",
      "source": [
        "# Ваш код здесь\n",
        "y_train_n=y_train.reshape(y_train.shape[0],32*64)\n",
        "y_test_n=y_test.reshape(y_test.shape[0],32*64)\n",
        "y_train_n.shape\n"
      ],
      "metadata": {
        "id": "NTsrtRfkdhAE",
        "colab": {
          "base_uri": "https://localhost:8080/"
        },
        "outputId": "e34a80bd-8f9c-4cc7-f863-2475e604feb0"
      },
      "execution_count": null,
      "outputs": [
        {
          "output_type": "execute_result",
          "data": {
            "text/plain": [
              "(320, 2048)"
            ]
          },
          "metadata": {},
          "execution_count": 159
        }
      ]
    },
    {
      "cell_type": "markdown",
      "source": [
        "### 3.2. Создайте архитектуру для этой задачи"
      ],
      "metadata": {
        "id": "TaoQfXrzGkV5"
      }
    },
    {
      "cell_type": "code",
      "source": [
        "# Ваш код здесь\n",
        "model = Sequential([\n",
        "    Flatten(input_shape=(32, 64)),\n",
        "    Dense(1024, activation='relu'),\n",
        "    Dense(1024, activation='relu'),\n",
        "    Dense(32*64, activation='linear'),\n",
        "    \n",
        "])\n",
        "\n",
        "model.summary()\n"
      ],
      "metadata": {
        "id": "O0cB3seMGkV_",
        "colab": {
          "base_uri": "https://localhost:8080/"
        },
        "outputId": "5b907506-6716-4154-842d-a0fe9380d7d5"
      },
      "execution_count": null,
      "outputs": [
        {
          "output_type": "stream",
          "name": "stdout",
          "text": [
            "Model: \"sequential_15\"\n",
            "_________________________________________________________________\n",
            " Layer (type)                Output Shape              Param #   \n",
            "=================================================================\n",
            " flatten_11 (Flatten)        (None, 2048)              0         \n",
            "                                                                 \n",
            " dense_33 (Dense)            (None, 1024)              2098176   \n",
            "                                                                 \n",
            " dense_34 (Dense)            (None, 1024)              1049600   \n",
            "                                                                 \n",
            " dense_35 (Dense)            (None, 2048)              2099200   \n",
            "                                                                 \n",
            "=================================================================\n",
            "Total params: 5,246,976\n",
            "Trainable params: 5,246,976\n",
            "Non-trainable params: 0\n",
            "_________________________________________________________________\n"
          ]
        }
      ]
    },
    {
      "cell_type": "markdown",
      "source": [
        "### 3.3. Скомпилируйте сеть\n",
        "\n",
        "Подберите нужную функцию потерь и метрику. Оптимизатор можете использовать 'adam'"
      ],
      "metadata": {
        "id": "jvwQpCIsGkWA"
      }
    },
    {
      "cell_type": "code",
      "source": [
        "# Ваш код здесь\n",
        "model.compile(optimizer='adam', loss='mse', metrics='mae')\n"
      ],
      "metadata": {
        "id": "NwoUip0-GkWA"
      },
      "execution_count": null,
      "outputs": []
    },
    {
      "cell_type": "markdown",
      "source": [
        "### 3.4. Обучите нейросеть\n",
        "\n",
        "Выберите нужное количество эпох.\n"
      ],
      "metadata": {
        "id": "QQDeimPrGkWA"
      }
    },
    {
      "cell_type": "code",
      "source": [
        "# Ваш код здесь\n",
        "model.fit(X_train,y_train_n, epochs=10)"
      ],
      "metadata": {
        "id": "TYi8LM6iGkWB",
        "colab": {
          "base_uri": "https://localhost:8080/"
        },
        "outputId": "9f7bd39e-4700-46f7-f386-757ad0688049"
      },
      "execution_count": null,
      "outputs": [
        {
          "output_type": "stream",
          "name": "stdout",
          "text": [
            "Epoch 1/10\n",
            "10/10 [==============================] - 1s 79ms/step - loss: 0.0997 - mae: 0.2287\n",
            "Epoch 2/10\n",
            "10/10 [==============================] - 1s 83ms/step - loss: 0.0231 - mae: 0.1201\n",
            "Epoch 3/10\n",
            "10/10 [==============================] - 1s 64ms/step - loss: 0.0203 - mae: 0.1133\n",
            "Epoch 4/10\n",
            "10/10 [==============================] - 1s 51ms/step - loss: 0.0191 - mae: 0.1088\n",
            "Epoch 5/10\n",
            "10/10 [==============================] - 1s 55ms/step - loss: 0.0174 - mae: 0.1038\n",
            "Epoch 6/10\n",
            "10/10 [==============================] - 1s 53ms/step - loss: 0.0173 - mae: 0.1032\n",
            "Epoch 7/10\n",
            "10/10 [==============================] - 1s 56ms/step - loss: 0.0159 - mae: 0.0986\n",
            "Epoch 8/10\n",
            "10/10 [==============================] - 1s 53ms/step - loss: 0.0150 - mae: 0.0947\n",
            "Epoch 9/10\n",
            "10/10 [==============================] - 1s 56ms/step - loss: 0.0153 - mae: 0.0960\n",
            "Epoch 10/10\n",
            "10/10 [==============================] - 1s 55ms/step - loss: 0.0148 - mae: 0.0943\n"
          ]
        },
        {
          "output_type": "execute_result",
          "data": {
            "text/plain": [
              "<keras.callbacks.History at 0x7fb0bf8211d0>"
            ]
          },
          "metadata": {},
          "execution_count": 179
        }
      ]
    },
    {
      "cell_type": "markdown",
      "source": [
        "### 3.5. Сделайте предсказания на тестовых данных"
      ],
      "metadata": {
        "id": "_y_TeRgPHDoA"
      }
    },
    {
      "cell_type": "code",
      "source": [
        "# Ваш код здесь\n",
        "preds=model.predict(X_test)\n"
      ],
      "metadata": {
        "id": "UoypDLtvHDoA"
      },
      "execution_count": null,
      "outputs": []
    },
    {
      "cell_type": "markdown",
      "source": [
        "### 3.6. Посчитайте метрику качества на тестовых данных\n",
        "\n",
        "Доп информация по метрикам [здесь](https://youtu.be/vh2smjQyhp8)"
      ],
      "metadata": {
        "id": "RUgzV344HDoB"
      }
    },
    {
      "cell_type": "code",
      "source": [
        "# Ваш код здесь\n",
        "from sklearn.metrics import mean_absolute_error\n",
        "\n",
        "mean_absolute_error(preds, y_test_n)\n"
      ],
      "metadata": {
        "id": "ZcUmYJetHDoB",
        "colab": {
          "base_uri": "https://localhost:8080/"
        },
        "outputId": "72a8966b-155e-4b10-e28b-939356644243"
      },
      "execution_count": null,
      "outputs": [
        {
          "output_type": "execute_result",
          "data": {
            "text/plain": [
              "0.09394018"
            ]
          },
          "metadata": {},
          "execution_count": 183
        }
      ]
    },
    {
      "cell_type": "markdown",
      "source": [
        "### 3.7. Поменяйте размерность предсказанных векторов в двумерное изображение"
      ],
      "metadata": {
        "id": "gHWdJ-WmNYZB"
      }
    },
    {
      "cell_type": "code",
      "source": [
        "# Ваш код здесь\n",
        "pred_test = preds.reshape(preds.shape[0], 32, 64)\n",
        "pred_test.shape"
      ],
      "metadata": {
        "id": "3HvIZh6AIHHM",
        "colab": {
          "base_uri": "https://localhost:8080/"
        },
        "outputId": "89e34a92-2096-43aa-ee41-c6909f6a4709"
      },
      "execution_count": null,
      "outputs": [
        {
          "output_type": "execute_result",
          "data": {
            "text/plain": [
              "(80, 32, 64)"
            ]
          },
          "metadata": {},
          "execution_count": 184
        }
      ]
    },
    {
      "cell_type": "markdown",
      "source": [
        "А сейчас отрисуем все предсказания."
      ],
      "metadata": {
        "id": "LzmfZBw1GAQ9"
      }
    },
    {
      "cell_type": "code",
      "source": [
        "n_faces = 5\n",
        "n_cols = 2\n",
        "image_shape = (64, 64)\n",
        "plt.figure(figsize=(3 * n_cols, 3 * n_faces))\n",
        "\n",
        "\n",
        "for i in range(5):\n",
        "    true_face = np.vstack((X_test[i], y_test[i]))\n",
        "\n",
        "    if i:\n",
        "        sub = plt.subplot(n_faces, n_cols, i * n_cols + 1)\n",
        "    else:\n",
        "        sub = plt.subplot(n_faces, n_cols, i * n_cols + 1, title=\"true faces\")\n",
        "\n",
        "    sub.axis(\"off\")\n",
        "    sub.imshow(\n",
        "        true_face.reshape(image_shape), cmap=plt.cm.gray, interpolation=\"nearest\"\n",
        "    )\n",
        "\n",
        "    completed_face = np.vstack((X_test[i], pred_test[i]))\n",
        "\n",
        "    if i:\n",
        "        sub = plt.subplot(n_faces, n_cols, i * n_cols + 2)\n",
        "\n",
        "    else:\n",
        "        sub = plt.subplot(n_faces, n_cols, i * n_cols + 2)\n",
        "\n",
        "    sub.axis(\"off\")\n",
        "    sub.imshow(\n",
        "        completed_face.reshape(image_shape),\n",
        "        cmap=plt.cm.gray,\n",
        "        interpolation=\"nearest\",\n",
        "    )"
      ],
      "metadata": {
        "id": "aIna_q3gCWo-",
        "colab": {
          "base_uri": "https://localhost:8080/",
          "height": 862
        },
        "outputId": "dcb951f7-6d36-4401-e04c-c70ad29843ad"
      },
      "execution_count": null,
      "outputs": [
        {
          "output_type": "display_data",
          "data": {
            "text/plain": [
              "<Figure size 432x1080 with 10 Axes>"
            ],
            "image/png": "[encoded data removed]"
          },
          "metadata": {
            "needs_background": "light"
          }
        }
      ]
    },
    {
      "cell_type": "markdown",
      "source": [
        "## Резюме \n",
        "\n",
        "Сегодня на практическом занятии:\n",
        "\n",
        "1. Обучили нейросеть на Keras для задачи регрессии (california housing)\n",
        "2. Подготовили изображения к обучению нейросети\n",
        "3. Обучили нейросеть на Keras для задачи классификации (MNIST)\n",
        "4. Обучили нейросеть на Keras для задачи восстановления изображений"
      ],
      "metadata": {
        "id": "VgBSMbZHhvbe"
      }
    },
    {
      "cell_type": "markdown",
      "source": [
        "**Муррр** ♥"
      ],
      "metadata": {
        "id": "GTJ1GuCMIhYi"
      }
    }
  ]
}